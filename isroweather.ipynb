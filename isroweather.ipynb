{
  "nbformat": 4,
  "nbformat_minor": 0,
  "metadata": {
    "colab": {
      "provenance": [],
      "authorship_tag": "ABX9TyMcq7rxj7aS1FKAWKiOzuJJ",
      "include_colab_link": true
    },
    "kernelspec": {
      "name": "python3",
      "display_name": "Python 3"
    },
    "language_info": {
      "name": "python"
    }
  },
  "cells": [
    {
      "cell_type": "markdown",
      "metadata": {
        "id": "view-in-github",
        "colab_type": "text"
      },
      "source": [
        "<a href=\"https://colab.research.google.com/github/indluru-vishnuvardhanareddy/heart-disease-prediction/blob/main/isroweather.ipynb\" target=\"_parent\"><img src=\"https://colab.research.google.com/assets/colab-badge.svg\" alt=\"Open In Colab\"/></a>"
      ]
    },
    {
      "cell_type": "code",
      "execution_count": 1,
      "metadata": {
        "id": "PyYpUZ6YriNL"
      },
      "outputs": [],
      "source": [
        "import numpy as np\n",
        "import xarray as xr\n",
        "import matplotlib.pyplot as plt\n",
        "import pandas as pd\n",
        "import warnings\n",
        "warnings.filterwarnings('ignore')"
      ]
    },
    {
      "cell_type": "code",
      "source": [
        "# Step 1: Mount Google Drive\n",
        "from google.colab import drive\n",
        "drive.mount('/content/drive')\n",
        "\n",
        "# Step 2: Install the netCDF4 library (if not already installed)\n",
        "!pip install netCDF4\n",
        "# Step 3: Load and read the .nc file\n",
        "import netCDF4\n",
        "\n"
      ],
      "metadata": {
        "colab": {
          "base_uri": "https://localhost:8080/"
        },
        "id": "5AB_bIwusftT",
        "outputId": "1cb3480f-005d-4389-e02d-3db5f85ef02d"
      },
      "execution_count": 2,
      "outputs": [
        {
          "output_type": "stream",
          "name": "stdout",
          "text": [
            "Mounted at /content/drive\n",
            "Collecting netCDF4\n",
            "  Downloading netCDF4-1.7.1.post2-cp310-cp310-manylinux_2_17_x86_64.manylinux2014_x86_64.whl.metadata (1.8 kB)\n",
            "Collecting cftime (from netCDF4)\n",
            "  Downloading cftime-1.6.4-cp310-cp310-manylinux_2_17_x86_64.manylinux2014_x86_64.whl.metadata (8.7 kB)\n",
            "Requirement already satisfied: certifi in /usr/local/lib/python3.10/dist-packages (from netCDF4) (2024.7.4)\n",
            "Requirement already satisfied: numpy in /usr/local/lib/python3.10/dist-packages (from netCDF4) (1.26.4)\n",
            "Downloading netCDF4-1.7.1.post2-cp310-cp310-manylinux_2_17_x86_64.manylinux2014_x86_64.whl (9.0 MB)\n",
            "\u001b[2K   \u001b[90m━━━━━━━━━━━━━━━━━━━━━━━━━━━━━━━━━━━━━━━━\u001b[0m \u001b[32m9.0/9.0 MB\u001b[0m \u001b[31m88.5 MB/s\u001b[0m eta \u001b[36m0:00:00\u001b[0m\n",
            "\u001b[?25hDownloading cftime-1.6.4-cp310-cp310-manylinux_2_17_x86_64.manylinux2014_x86_64.whl (1.3 MB)\n",
            "\u001b[2K   \u001b[90m━━━━━━━━━━━━━━━━━━━━━━━━━━━━━━━━━━━━━━━━\u001b[0m \u001b[32m1.3/1.3 MB\u001b[0m \u001b[31m56.1 MB/s\u001b[0m eta \u001b[36m0:00:00\u001b[0m\n",
            "\u001b[?25hInstalling collected packages: cftime, netCDF4\n",
            "Successfully installed cftime-1.6.4 netCDF4-1.7.1.post2\n"
          ]
        }
      ]
    },
    {
      "cell_type": "code",
      "source": [
        "from google.colab import drive\n",
        "drive.mount('/content/drive')"
      ],
      "metadata": {
        "colab": {
          "base_uri": "https://localhost:8080/"
        },
        "id": "mKt-EYamfE1C",
        "outputId": "2852fc6a-38d8-4c12-eb61-9427ec00cf11"
      },
      "execution_count": 3,
      "outputs": [
        {
          "output_type": "stream",
          "name": "stdout",
          "text": [
            "Drive already mounted at /content/drive; to attempt to forcibly remount, call drive.mount(\"/content/drive\", force_remount=True).\n"
          ]
        }
      ]
    },
    {
      "cell_type": "code",
      "source": [
        "# Replace 'your_file.nc' with the path to your NetCDF file in Google Drive\n",
        "file_path = '/content/drive/MyDrive/IMDAA_merged_1.08_1990_2020.nc'\n",
        "\n",
        "ds=  xr.open_dataset(r'/content/drive/MyDrive/IMDAA_merged_1.08_1990_2020.nc')\n",
        "\n",
        "\n",
        "# Print the dataset to understand its structure\n",
        "print(ds)"
      ],
      "metadata": {
        "colab": {
          "base_uri": "https://localhost:8080/"
        },
        "id": "T76sWFNEs2Bj",
        "outputId": "d3cc00af-337e-481a-881c-e3fb3b972c20"
      },
      "execution_count": 4,
      "outputs": [
        {
          "output_type": "stream",
          "name": "stdout",
          "text": [
            "<xarray.Dataset> Size: 742MB\n",
            "Dimensions:   (time: 45292, latitude: 32, longitude: 32)\n",
            "Coordinates:\n",
            "  * time      (time) datetime64[ns] 362kB 1990-01-01 ... 2020-12-31T18:00:00\n",
            "    lat       (latitude) float64 256B ...\n",
            "    lon       (longitude) float64 256B ...\n",
            "Dimensions without coordinates: latitude, longitude\n",
            "Data variables:\n",
            "    HGT_prl   (time, latitude, longitude) float32 186MB ...\n",
            "    TMP_prl   (time, latitude, longitude) float32 186MB ...\n",
            "    TMP_2m    (time, latitude, longitude) float32 186MB ...\n",
            "    APCP_sfc  (time, latitude, longitude) float32 186MB ...\n",
            "Attributes:\n",
            "    CDI:                  Climate Data Interface version 1.9.8 (https://mpime...\n",
            "    Conventions:          COARDS\n",
            "    history:              Wed Jun 14 21:34:08 2023: cdo -f nc4c -z zip_4 copy...\n",
            "    History:              created by wgrib2\n",
            "    GRIB2_grid_template:  0\n",
            "    CDO:                  Climate Data Operators version 1.9.8 (https://mpime...\n",
            "    regrid_method:        bilinear\n"
          ]
        }
      ]
    },
    {
      "cell_type": "code",
      "source": [
        "!pip install cartopy\n",
        "import cartopy\n",
        "from cartopy.mpl.gridliner import LONGITUDE_FORMATTER, LATITUDE_FORMATTER"
      ],
      "metadata": {
        "colab": {
          "base_uri": "https://localhost:8080/"
        },
        "id": "V9WczrL9TbsL",
        "outputId": "859d13c6-94db-43b7-eb69-c7816ea6f75a"
      },
      "execution_count": 5,
      "outputs": [
        {
          "output_type": "stream",
          "name": "stdout",
          "text": [
            "Collecting cartopy\n",
            "  Downloading Cartopy-0.23.0-cp310-cp310-manylinux_2_17_x86_64.manylinux2014_x86_64.whl.metadata (8.0 kB)\n",
            "Requirement already satisfied: numpy>=1.21 in /usr/local/lib/python3.10/dist-packages (from cartopy) (1.26.4)\n",
            "Requirement already satisfied: matplotlib>=3.5 in /usr/local/lib/python3.10/dist-packages (from cartopy) (3.7.1)\n",
            "Requirement already satisfied: shapely>=1.7 in /usr/local/lib/python3.10/dist-packages (from cartopy) (2.0.5)\n",
            "Requirement already satisfied: packaging>=20 in /usr/local/lib/python3.10/dist-packages (from cartopy) (24.1)\n",
            "Requirement already satisfied: pyshp>=2.3 in /usr/local/lib/python3.10/dist-packages (from cartopy) (2.3.1)\n",
            "Requirement already satisfied: pyproj>=3.3.1 in /usr/local/lib/python3.10/dist-packages (from cartopy) (3.6.1)\n",
            "Requirement already satisfied: contourpy>=1.0.1 in /usr/local/lib/python3.10/dist-packages (from matplotlib>=3.5->cartopy) (1.2.1)\n",
            "Requirement already satisfied: cycler>=0.10 in /usr/local/lib/python3.10/dist-packages (from matplotlib>=3.5->cartopy) (0.12.1)\n",
            "Requirement already satisfied: fonttools>=4.22.0 in /usr/local/lib/python3.10/dist-packages (from matplotlib>=3.5->cartopy) (4.53.1)\n",
            "Requirement already satisfied: kiwisolver>=1.0.1 in /usr/local/lib/python3.10/dist-packages (from matplotlib>=3.5->cartopy) (1.4.5)\n",
            "Requirement already satisfied: pillow>=6.2.0 in /usr/local/lib/python3.10/dist-packages (from matplotlib>=3.5->cartopy) (9.4.0)\n",
            "Requirement already satisfied: pyparsing>=2.3.1 in /usr/local/lib/python3.10/dist-packages (from matplotlib>=3.5->cartopy) (3.1.2)\n",
            "Requirement already satisfied: python-dateutil>=2.7 in /usr/local/lib/python3.10/dist-packages (from matplotlib>=3.5->cartopy) (2.8.2)\n",
            "Requirement already satisfied: certifi in /usr/local/lib/python3.10/dist-packages (from pyproj>=3.3.1->cartopy) (2024.7.4)\n",
            "Requirement already satisfied: six>=1.5 in /usr/local/lib/python3.10/dist-packages (from python-dateutil>=2.7->matplotlib>=3.5->cartopy) (1.16.0)\n",
            "Downloading Cartopy-0.23.0-cp310-cp310-manylinux_2_17_x86_64.manylinux2014_x86_64.whl (11.6 MB)\n",
            "\u001b[2K   \u001b[90m━━━━━━━━━━━━━━━━━━━━━━━━━━━━━━━━━━━━━━━━\u001b[0m \u001b[32m11.6/11.6 MB\u001b[0m \u001b[31m95.0 MB/s\u001b[0m eta \u001b[36m0:00:00\u001b[0m\n",
            "\u001b[?25hInstalling collected packages: cartopy\n",
            "Successfully installed cartopy-0.23.0\n"
          ]
        }
      ]
    },
    {
      "cell_type": "code",
      "source": [
        "import cartopy.feature as cfeature\n",
        "import cartopy.crs as ccrs"
      ],
      "metadata": {
        "id": "j09-Ip1OUjws"
      },
      "execution_count": 6,
      "outputs": []
    },
    {
      "cell_type": "code",
      "source": [
        "mean_all = ds.mean(dim='time')\n",
        "z500 = mean_all\n",
        "data_values = z500['APCP_sfc'].values\n",
        "\n",
        "# Get the extent of your xarray dataset\n",
        "lon_min, lon_max, lat_min, lat_max = z500.lon.min(), z500.lon.max(), z500.lat.min(), z500.lat.max()\n",
        "\n",
        "# Create a basic plot within the extent of your xarray data using cartopy\n",
        "fig, ax = plt.subplots(figsize=(8, 6), subplot_kw={'projection': ccrs.PlateCarree()})\n",
        "im = ax.imshow(data_values, cmap='jet', origin='lower', extent=[lon_min, lon_max, lat_min, lat_max], transform=ccrs.PlateCarree())\n",
        "\n",
        "ax.tick_params( labelcolor='black', labelsize='large', width=2)\n",
        "# Add country borders and coastlines within the extent\n",
        "ax.add_feature(cfeature.COASTLINE, linewidth=1)\n",
        "#ax.add_feature(cfeature.BORDERS, linewidth=1)\n",
        "#world.boundary.plot(ax=ax, linewidth=1, color='black')\n",
        "\n",
        "# Add Cartopy graticules (latitude and longitude lines)\n",
        "gl = ax.gridlines(crs=ccrs.PlateCarree(), draw_labels=True, linewidth=0.5, color='gray', alpha=0.5, linestyle='--')\n",
        "gl.xlabels_top = False\n",
        "gl.ylabels_right = False\n",
        "gl.xformatter = LONGITUDE_FORMATTER\n",
        "gl.yformatter = LATITUDE_FORMATTER\n",
        "gl.ylabel_style = {'color': 'black', 'weight': 'bold'}\n",
        "gl.xlabel_style = {'color': 'black', 'weight': 'bold'}\n",
        "#ax.set_xticks(range(int(lon_min), int(lon_max) + 1, 10), crs=ccrs.PlateCarree())\n",
        "#ax.set_yticks(range(int(lat_min), int(lat_max) + 1, 10), crs=ccrs.PlateCarree())\n",
        "# plt.xticks(fontweight='bold')\n",
        "# plt.yticks(fontweight='bold')\n",
        "cbar = plt.colorbar(im)\n",
        "cbar.ax.set_ylabel('(Kg/m^2)', fontsize = 12, weight=\"bold\")\n",
        "cbar.ax.set_yticklabels(cbar.ax.get_yticklabels(), weight=\"bold\")\n",
        "plt.title('Mean TP6h ' , fontweight='bold')\n",
        "# plt.xlabel('Longitude')\n",
        "# plt.ylabel('Latitude')\n",
        "# plt.grid(True)\n",
        "plt.savefig('TP6h.png', dpi = 600)\n",
        "plt.show()"
      ],
      "metadata": {
        "colab": {
          "base_uri": "https://localhost:8080/",
          "height": 563
        },
        "id": "n6-o9TtZVKFH",
        "outputId": "92d7e47e-f48c-46b5-9e6f-5bae834cbdd5"
      },
      "execution_count": 7,
      "outputs": [
        {
          "output_type": "display_data",
          "data": {
            "text/plain": [
              "<Figure size 800x600 with 2 Axes>"
            ],
            "image/png": "[encoded data removed]"
          },
          "metadata": {}
        }
      ]
    },
    {
      "cell_type": "code",
      "source": [
        "def compute_rmse(prediction, actual,  mean_dims = ('time', 'latitude', 'longitude')):\n",
        "  error = prediction - actual\n",
        "  rmse = np.sqrt(((error)**2 ).mean(mean_dims))\n",
        "  return rmse"
      ],
      "metadata": {
        "id": "iEUPkV7sWx4A"
      },
      "execution_count": 8,
      "outputs": []
    },
    {
      "cell_type": "code",
      "source": [
        "def compute_mae(prediction, actual, mean_dims = ('time', 'latitude', 'longitude')):\n",
        "    error = prediction - actual\n",
        "    mae = np.abs(error).mean(mean_dims)\n",
        "    return mae"
      ],
      "metadata": {
        "id": "jjqE8uFYW6fS"
      },
      "execution_count": 9,
      "outputs": []
    },
    {
      "cell_type": "code",
      "source": [
        "import numpy as np\n",
        "\n",
        "def compute_r_squared(prediction, actual, mean_dims=('time', 'latitude', 'longitude')):\n",
        "    # Calculate the sum of squares of residuals (SSR)\n",
        "    ssr = np.square(prediction - actual).sum(mean_dims)\n",
        "\n",
        "    # Calculate the total sum of squares (SST)\n",
        "    sst = np.square(actual - actual.mean(mean_dims)).sum(mean_dims)\n",
        "\n",
        "    # Calculate the R-squared value\n",
        "    r_squared = 1 - (ssr / sst)\n",
        "\n",
        "    return r_squared\n"
      ],
      "metadata": {
        "id": "ZPEPis77XiCO"
      },
      "execution_count": 10,
      "outputs": []
    },
    {
      "cell_type": "code",
      "source": [
        "def compute_acc(prediction, actual):\n",
        "    clim = actual.mean('time')\n",
        "    try:\n",
        "        t = np.intersect1d(prediction.time, actual.time)\n",
        "        pred_anomaly = prediction.sel(time=t) - clim\n",
        "    except AttributeError:\n",
        "        t = actual.time.values\n",
        "        pred_anomaly = prediction - clim\n",
        "    act_anomaly = actual.sel(time=t) - clim\n",
        "\n",
        "    pred_norm = pred_anomaly - pred_anomaly.mean()\n",
        "    act_norm = act_anomaly - act_anomaly.mean()\n",
        "\n",
        "    acc = (\n",
        "            np.sum(pred_norm * act_norm) /\n",
        "            np.sqrt(\n",
        "                np.sum(pred_norm ** 2) * np.sum(act_norm ** 2)\n",
        "            )\n",
        "    )\n",
        "    return acc"
      ],
      "metadata": {
        "id": "SoDFxwh8X_pr"
      },
      "execution_count": 11,
      "outputs": []
    },
    {
      "cell_type": "code",
      "source": [
        "# training dataset selection\n",
        "train_years = slice('1990', '2017')\n",
        "# validation dataset selection (this dataset helps with overfitting)\n",
        "valid_years = slice('2018', '2018')\n",
        "# test dataset selection\n",
        "test_years = slice('2019', '2020')"
      ],
      "metadata": {
        "id": "2TRJc1wcmI7n"
      },
      "execution_count": 12,
      "outputs": []
    },
    {
      "cell_type": "code",
      "source": [
        "var_name = ['HGT_prl', 'TMP_prl', 'TMP_2m', 'APCP_sfc']\n",
        "\n",
        "# Each day the data has four observations at 00 UTC, 06 UTC, 12 UTC and 18 UTC\n",
        "lead_time_steps = np.arange(4, 64, 4)\n",
        "lead_time_steps"
      ],
      "metadata": {
        "colab": {
          "base_uri": "https://localhost:8080/"
        },
        "id": "Knj4vPa2mRJp",
        "outputId": "828ebd13-9737-4989-f0ad-3bdda39c7c50"
      },
      "execution_count": 13,
      "outputs": [
        {
          "output_type": "execute_result",
          "data": {
            "text/plain": [
              "array([ 4,  8, 12, 16, 20, 24, 28, 32, 36, 40, 44, 48, 52, 56, 60])"
            ]
          },
          "metadata": {},
          "execution_count": 13
        }
      ]
    },
    {
      "cell_type": "code",
      "source": [
        "import xarray as xr\n",
        "import numpy as np\n",
        "from sklearn.metrics import mean_absolute_error, mean_squared_error\n",
        "import pandas as pd\n",
        "\n",
        "# Compute R-squared function\n",
        "def compute_r_squared(prediction, actual):\n",
        "    prediction_flat = prediction.values.ravel()\n",
        "    actual_flat = actual.values.ravel()\n",
        "\n",
        "    ssr = np.sum(np.square(prediction_flat - actual_flat))\n",
        "    sst = np.sum(np.square(actual_flat - np.mean(actual_flat)))\n",
        "\n",
        "    r_squared = 1 - (ssr / sst)\n",
        "    return r_squared\n",
        "\n",
        "# Load your dataset\n",
        "ds = xr.open_dataset('/content/drive/MyDrive/IMDAA_merged_1.08_1990_2020.nc')\n",
        "\n",
        "# Define your target latitude and longitude\n",
        "target_latitude = 13.5\n",
        "target_longitude = 80.0\n",
        "\n",
        "# Nearest lat/lon index calculation\n",
        "nearest_lat_index = np.argmin(np.abs(ds['lat'].values - target_latitude))\n",
        "nearest_lon_index = np.argmin(np.abs(ds['lon'].values - target_longitude))\n",
        "\n",
        "# Extract data for the nearest latitude and longitude for all variables\n",
        "nearest_data = ds.isel(latitude=nearest_lat_index, longitude=nearest_lon_index)\n",
        "\n",
        "# Define the list of variable names you're interested in\n",
        "var_names = ['HGT_prl', 'TMP_prl', 'TMP_2m', 'APCP_sfc']\n",
        "\n",
        "# Convert time to pandas datetime format if it's not already\n",
        "nearest_data['time'] = pd.to_datetime(nearest_data['time'].values)\n",
        "\n",
        "# Calculate the latest date in the dataset\n",
        "end_date = nearest_data['time'].values[-1]\n",
        "start_date = end_date - np.timedelta64(7, 'D')\n",
        "\n",
        "# Initialize dictionaries to store results\n",
        "r_squared_results = {}\n",
        "mae_results = {}\n",
        "rmse_results = {}\n",
        "\n",
        "# Loop over each variable\n",
        "for var_name in var_names:\n",
        "    # Retrieve data between the start and end date\n",
        "    prediction_variable = nearest_data[var_name].sel(time=slice(start_date, end_date))\n",
        "    actual_variable = nearest_data[var_name].sel(time=slice(start_date, end_date))\n",
        "\n",
        "    # Ensure prediction and actual data have the same shape\n",
        "    if prediction_variable.shape != actual_variable.shape:\n",
        "        min_length = min(prediction_variable.shape[0], actual_variable.shape[0])\n",
        "        prediction_variable = prediction_variable.isel(time=slice(0, min_length))\n",
        "        actual_variable = actual_variable.isel(time=slice(0, min_length))\n",
        "\n",
        "    # Calculate R-squared\n",
        "    r_squared = compute_r_squared(prediction_variable, actual_variable)\n",
        "\n",
        "    # Calculate MAE\n",
        "    mae = mean_absolute_error(actual_variable, prediction_variable)\n",
        "\n",
        "    # Calculate RMSE\n",
        "    rmse = np.sqrt(mean_squared_error(actual_variable, prediction_variable))\n",
        "\n",
        "    # Store the results\n",
        "    r_squared_results[var_name] = r_squared\n",
        "    mae_results[var_name] = mae\n",
        "    rmse_results[var_name] = rmse\n",
        "\n",
        "# Print the results\n",
        "for var_name in var_names:\n",
        "    print(f\"Results for {var_name}:\")\n",
        "    print(f\"R-squared: {r_squared_results[var_name]}\")\n",
        "    print(f\"MAE: {mae_results[var_name]}\")\n",
        "    print(f\"RMSE: {rmse_results[var_name]}\")\n",
        "    print(\"\\n\")\n"
      ],
      "metadata": {
        "colab": {
          "base_uri": "https://localhost:8080/"
        },
        "id": "qFi_tMmfYl-m",
        "outputId": "1d91ed96-2a8d-4bcf-93dc-87454acaf914"
      },
      "execution_count": 14,
      "outputs": [
        {
          "output_type": "stream",
          "name": "stdout",
          "text": [
            "Results for HGT_prl:\n",
            "R-squared: 1.0\n",
            "MAE: 0.0\n",
            "RMSE: 0.0\n",
            "\n",
            "\n",
            "Results for TMP_prl:\n",
            "R-squared: 1.0\n",
            "MAE: 0.0\n",
            "RMSE: 0.0\n",
            "\n",
            "\n",
            "Results for TMP_2m:\n",
            "R-squared: 1.0\n",
            "MAE: 0.0\n",
            "RMSE: 0.0\n",
            "\n",
            "\n",
            "Results for APCP_sfc:\n",
            "R-squared: 1.0\n",
            "MAE: 0.0\n",
            "RMSE: 0.0\n",
            "\n",
            "\n"
          ]
        }
      ]
    },
    {
      "cell_type": "code",
      "source": [
        "nearest_data['lat'].values"
      ],
      "metadata": {
        "colab": {
          "base_uri": "https://localhost:8080/"
        },
        "id": "I1z0znQ7aW9U",
        "outputId": "256cfa21-fc9a-4f1a-efd1-bad1bbb57397"
      },
      "execution_count": 15,
      "outputs": [
        {
          "output_type": "execute_result",
          "data": {
            "text/plain": [
              "array(13.68)"
            ]
          },
          "metadata": {},
          "execution_count": 15
        }
      ]
    },
    {
      "cell_type": "code",
      "source": [
        "nearest_data['lon'].values"
      ],
      "metadata": {
        "colab": {
          "base_uri": "https://localhost:8080/"
        },
        "id": "y-1-6w8tlms-",
        "outputId": "918033d8-4ae2-4ef9-8de8-40923e22af82"
      },
      "execution_count": 16,
      "outputs": [
        {
          "output_type": "execute_result",
          "data": {
            "text/plain": [
              "array(80.16)"
            ]
          },
          "metadata": {},
          "execution_count": 16
        }
      ]
    },
    {
      "cell_type": "code",
      "source": [
        "# Ensure 'time' is a coordinate in your xarray dataset\n",
        "if 'time' not in nearest_data.coords:\n",
        "    nearest_data = nearest_data.set_coords('time')\n",
        "\n",
        "# Convert the nearest data to a DataFrame, keeping 'time' as a column\n",
        "df = nearest_data.to_dataframe().reset_index()\n",
        "\n",
        "# Now 'df' contains only the data for the nearest lat/lon with 'time' as a column\n",
        "\n"
      ],
      "metadata": {
        "id": "LVbp-mpOdpVS"
      },
      "execution_count": 17,
      "outputs": []
    },
    {
      "cell_type": "code",
      "source": [
        "df.head()"
      ],
      "metadata": {
        "colab": {
          "base_uri": "https://localhost:8080/",
          "height": 293
        },
        "id": "DepRwTpamFMg",
        "outputId": "98c10a58-4cd7-47b9-d6c8-cca3a241dea4"
      },
      "execution_count": 18,
      "outputs": [
        {
          "output_type": "execute_result",
          "data": {
            "text/plain": [
              "                 time      HGT_prl    lat    lon     TMP_prl      TMP_2m  \\\n",
              "0 1990-01-01 00:00:00  5851.058594  13.68  80.16  289.792603  298.783691   \n",
              "1 1990-01-01 06:00:00  5856.154785  13.68  80.16  288.841736  298.667847   \n",
              "2 1990-01-01 12:00:00  5853.154785  13.68  80.16  289.898529  299.045593   \n",
              "3 1990-01-01 18:00:00  5848.790039  13.68  80.16  288.813477  298.870850   \n",
              "4 1990-01-02 00:00:00  5851.955078  13.68  80.16  288.188904  299.142822   \n",
              "\n",
              "       APCP_sfc  \n",
              "0  1.409983e-14  \n",
              "1  2.255973e-13  \n",
              "2  0.000000e+00  \n",
              "3  0.000000e+00  \n",
              "4  6.250000e-02  "
            ],
            "text/html": [
              "\n",
              "  <div id=\"df-016c20f7-4e2c-463c-b99a-584f4ee1763d\" class=\"colab-df-container\">\n",
              "    <div>\n",
              "<style scoped>\n",
              "    .dataframe tbody tr th:only-of-type {\n",
              "        vertical-align: middle;\n",
              "    }\n",
              "\n",
              "    .dataframe tbody tr th {\n",
              "        vertical-align: top;\n",
              "    }\n",
              "\n",
              "    .dataframe thead th {\n",
              "        text-align: right;\n",
              "    }\n",
              "</style>\n",
              "<table border=\"1\" class=\"dataframe\">\n",
              "  <thead>\n",
              "    <tr style=\"text-align: right;\">\n",
              "      <th></th>\n",
              "      <th>time</th>\n",
              "      <th>HGT_prl</th>\n",
              "      <th>lat</th>\n",
              "      <th>lon</th>\n",
              "      <th>TMP_prl</th>\n",
              "      <th>TMP_2m</th>\n",
              "      <th>APCP_sfc</th>\n",
              "    </tr>\n",
              "  </thead>\n",
              "  <tbody>\n",
              "    <tr>\n",
              "      <th>0</th>\n",
              "      <td>1990-01-01 00:00:00</td>\n",
              "      <td>5851.058594</td>\n",
              "      <td>13.68</td>\n",
              "      <td>80.16</td>\n",
              "      <td>289.792603</td>\n",
              "      <td>298.783691</td>\n",
              "      <td>1.409983e-14</td>\n",
              "    </tr>\n",
              "    <tr>\n",
              "      <th>1</th>\n",
              "      <td>1990-01-01 06:00:00</td>\n",
              "      <td>5856.154785</td>\n",
              "      <td>13.68</td>\n",
              "      <td>80.16</td>\n",
              "      <td>288.841736</td>\n",
              "      <td>298.667847</td>\n",
              "      <td>2.255973e-13</td>\n",
              "    </tr>\n",
              "    <tr>\n",
              "      <th>2</th>\n",
              "      <td>1990-01-01 12:00:00</td>\n",
              "      <td>5853.154785</td>\n",
              "      <td>13.68</td>\n",
              "      <td>80.16</td>\n",
              "      <td>289.898529</td>\n",
              "      <td>299.045593</td>\n",
              "      <td>0.000000e+00</td>\n",
              "    </tr>\n",
              "    <tr>\n",
              "      <th>3</th>\n",
              "      <td>1990-01-01 18:00:00</td>\n",
              "      <td>5848.790039</td>\n",
              "      <td>13.68</td>\n",
              "      <td>80.16</td>\n",
              "      <td>288.813477</td>\n",
              "      <td>298.870850</td>\n",
              "      <td>0.000000e+00</td>\n",
              "    </tr>\n",
              "    <tr>\n",
              "      <th>4</th>\n",
              "      <td>1990-01-02 00:00:00</td>\n",
              "      <td>5851.955078</td>\n",
              "      <td>13.68</td>\n",
              "      <td>80.16</td>\n",
              "      <td>288.188904</td>\n",
              "      <td>299.142822</td>\n",
              "      <td>6.250000e-02</td>\n",
              "    </tr>\n",
              "  </tbody>\n",
              "</table>\n",
              "</div>\n",
              "    <div class=\"colab-df-buttons\">\n",
              "\n",
              "  <div class=\"colab-df-container\">\n",
              "    <button class=\"colab-df-convert\" onclick=\"convertToInteractive('df-016c20f7-4e2c-463c-b99a-584f4ee1763d')\"\n",
              "            title=\"Convert this dataframe to an interactive table.\"\n",
              "            style=\"display:none;\">\n",
              "\n",
              "  <svg xmlns=\"http://www.w3.org/2000/svg\" height=\"24px\" viewBox=\"0 -960 960 960\">\n",
              "    <path d=\"M120-120v-720h720v720H120Zm60-500h600v-160H180v160Zm220 220h160v-160H400v160Zm0 220h160v-160H400v160ZM180-400h160v-160H180v160Zm440 0h160v-160H620v160ZM180-180h160v-160H180v160Zm440 0h160v-160H620v160Z\"/>\n",
              "  </svg>\n",
              "    </button>\n",
              "\n",
              "  <style>\n",
              "    .colab-df-container {\n",
              "      display:flex;\n",
              "      gap: 12px;\n",
              "    }\n",
              "\n",
              "    .colab-df-convert {\n",
              "      background-color: #E8F0FE;\n",
              "      border: none;\n",
              "      border-radius: 50%;\n",
              "      cursor: pointer;\n",
              "      display: none;\n",
              "      fill: #1967D2;\n",
              "      height: 32px;\n",
              "      padding: 0 0 0 0;\n",
              "      width: 32px;\n",
              "    }\n",
              "\n",
              "    .colab-df-convert:hover {\n",
              "      background-color: #E2EBFA;\n",
              "      box-shadow: 0px 1px 2px rgba(60, 64, 67, 0.3), 0px 1px 3px 1px rgba(60, 64, 67, 0.15);\n",
              "      fill: #174EA6;\n",
              "    }\n",
              "\n",
              "    .colab-df-buttons div {\n",
              "      margin-bottom: 4px;\n",
              "    }\n",
              "\n",
              "    [theme=dark] .colab-df-convert {\n",
              "      background-color: #3B4455;\n",
              "      fill: #D2E3FC;\n",
              "    }\n",
              "\n",
              "    [theme=dark] .colab-df-convert:hover {\n",
              "      background-color: #434B5C;\n",
              "      box-shadow: 0px 1px 3px 1px rgba(0, 0, 0, 0.15);\n",
              "      filter: drop-shadow(0px 1px 2px rgba(0, 0, 0, 0.3));\n",
              "      fill: #FFFFFF;\n",
              "    }\n",
              "  </style>\n",
              "\n",
              "    <script>\n",
              "      const buttonEl =\n",
              "        document.querySelector('#df-016c20f7-4e2c-463c-b99a-584f4ee1763d button.colab-df-convert');\n",
              "      buttonEl.style.display =\n",
              "        google.colab.kernel.accessAllowed ? 'block' : 'none';\n",
              "\n",
              "      async function convertToInteractive(key) {\n",
              "        const element = document.querySelector('#df-016c20f7-4e2c-463c-b99a-584f4ee1763d');\n",
              "        const dataTable =\n",
              "          await google.colab.kernel.invokeFunction('convertToInteractive',\n",
              "                                                    [key], {});\n",
              "        if (!dataTable) return;\n",
              "\n",
              "        const docLinkHtml = 'Like what you see? Visit the ' +\n",
              "          '<a target=\"_blank\" href=https://colab.research.google.com/notebooks/data_table.ipynb>data table notebook</a>'\n",
              "          + ' to learn more about interactive tables.';\n",
              "        element.innerHTML = '';\n",
              "        dataTable['output_type'] = 'display_data';\n",
              "        await google.colab.output.renderOutput(dataTable, element);\n",
              "        const docLink = document.createElement('div');\n",
              "        docLink.innerHTML = docLinkHtml;\n",
              "        element.appendChild(docLink);\n",
              "      }\n",
              "    </script>\n",
              "  </div>\n",
              "\n",
              "\n",
              "<div id=\"df-188b45b7-457f-4bf3-80df-6de13ed3c793\">\n",
              "  <button class=\"colab-df-quickchart\" onclick=\"quickchart('df-188b45b7-457f-4bf3-80df-6de13ed3c793')\"\n",
              "            title=\"Suggest charts\"\n",
              "            style=\"display:none;\">\n",
              "\n",
              "<svg xmlns=\"http://www.w3.org/2000/svg\" height=\"24px\"viewBox=\"0 0 24 24\"\n",
              "     width=\"24px\">\n",
              "    <g>\n",
              "        <path d=\"M19 3H5c-1.1 0-2 .9-2 2v14c0 1.1.9 2 2 2h14c1.1 0 2-.9 2-2V5c0-1.1-.9-2-2-2zM9 17H7v-7h2v7zm4 0h-2V7h2v10zm4 0h-2v-4h2v4z\"/>\n",
              "    </g>\n",
              "</svg>\n",
              "  </button>\n",
              "\n",
              "<style>\n",
              "  .colab-df-quickchart {\n",
              "      --bg-color: #E8F0FE;\n",
              "      --fill-color: #1967D2;\n",
              "      --hover-bg-color: #E2EBFA;\n",
              "      --hover-fill-color: #174EA6;\n",
              "      --disabled-fill-color: #AAA;\n",
              "      --disabled-bg-color: #DDD;\n",
              "  }\n",
              "\n",
              "  [theme=dark] .colab-df-quickchart {\n",
              "      --bg-color: #3B4455;\n",
              "      --fill-color: #D2E3FC;\n",
              "      --hover-bg-color: #434B5C;\n",
              "      --hover-fill-color: #FFFFFF;\n",
              "      --disabled-bg-color: #3B4455;\n",
              "      --disabled-fill-color: #666;\n",
              "  }\n",
              "\n",
              "  .colab-df-quickchart {\n",
              "    background-color: var(--bg-color);\n",
              "    border: none;\n",
              "    border-radius: 50%;\n",
              "    cursor: pointer;\n",
              "    display: none;\n",
              "    fill: var(--fill-color);\n",
              "    height: 32px;\n",
              "    padding: 0;\n",
              "    width: 32px;\n",
              "  }\n",
              "\n",
              "  .colab-df-quickchart:hover {\n",
              "    background-color: var(--hover-bg-color);\n",
              "    box-shadow: 0 1px 2px rgba(60, 64, 67, 0.3), 0 1px 3px 1px rgba(60, 64, 67, 0.15);\n",
              "    fill: var(--button-hover-fill-color);\n",
              "  }\n",
              "\n",
              "  .colab-df-quickchart-complete:disabled,\n",
              "  .colab-df-quickchart-complete:disabled:hover {\n",
              "    background-color: var(--disabled-bg-color);\n",
              "    fill: var(--disabled-fill-color);\n",
              "    box-shadow: none;\n",
              "  }\n",
              "\n",
              "  .colab-df-spinner {\n",
              "    border: 2px solid var(--fill-color);\n",
              "    border-color: transparent;\n",
              "    border-bottom-color: var(--fill-color);\n",
              "    animation:\n",
              "      spin 1s steps(1) infinite;\n",
              "  }\n",
              "\n",
              "  @keyframes spin {\n",
              "    0% {\n",
              "      border-color: transparent;\n",
              "      border-bottom-color: var(--fill-color);\n",
              "      border-left-color: var(--fill-color);\n",
              "    }\n",
              "    20% {\n",
              "      border-color: transparent;\n",
              "      border-left-color: var(--fill-color);\n",
              "      border-top-color: var(--fill-color);\n",
              "    }\n",
              "    30% {\n",
              "      border-color: transparent;\n",
              "      border-left-color: var(--fill-color);\n",
              "      border-top-color: var(--fill-color);\n",
              "      border-right-color: var(--fill-color);\n",
              "    }\n",
              "    40% {\n",
              "      border-color: transparent;\n",
              "      border-right-color: var(--fill-color);\n",
              "      border-top-color: var(--fill-color);\n",
              "    }\n",
              "    60% {\n",
              "      border-color: transparent;\n",
              "      border-right-color: var(--fill-color);\n",
              "    }\n",
              "    80% {\n",
              "      border-color: transparent;\n",
              "      border-right-color: var(--fill-color);\n",
              "      border-bottom-color: var(--fill-color);\n",
              "    }\n",
              "    90% {\n",
              "      border-color: transparent;\n",
              "      border-bottom-color: var(--fill-color);\n",
              "    }\n",
              "  }\n",
              "</style>\n",
              "\n",
              "  <script>\n",
              "    async function quickchart(key) {\n",
              "      const quickchartButtonEl =\n",
              "        document.querySelector('#' + key + ' button');\n",
              "      quickchartButtonEl.disabled = true;  // To prevent multiple clicks.\n",
              "      quickchartButtonEl.classList.add('colab-df-spinner');\n",
              "      try {\n",
              "        const charts = await google.colab.kernel.invokeFunction(\n",
              "            'suggestCharts', [key], {});\n",
              "      } catch (error) {\n",
              "        console.error('Error during call to suggestCharts:', error);\n",
              "      }\n",
              "      quickchartButtonEl.classList.remove('colab-df-spinner');\n",
              "      quickchartButtonEl.classList.add('colab-df-quickchart-complete');\n",
              "    }\n",
              "    (() => {\n",
              "      let quickchartButtonEl =\n",
              "        document.querySelector('#df-188b45b7-457f-4bf3-80df-6de13ed3c793 button');\n",
              "      quickchartButtonEl.style.display =\n",
              "        google.colab.kernel.accessAllowed ? 'block' : 'none';\n",
              "    })();\n",
              "  </script>\n",
              "</div>\n",
              "\n",
              "    </div>\n",
              "  </div>\n"
            ],
            "application/vnd.google.colaboratory.intrinsic+json": {
              "type": "dataframe",
              "variable_name": "df",
              "summary": "{\n  \"name\": \"df\",\n  \"rows\": 45292,\n  \"fields\": [\n    {\n      \"column\": \"time\",\n      \"properties\": {\n        \"dtype\": \"date\",\n        \"min\": \"1990-01-01 00:00:00\",\n        \"max\": \"2020-12-31 18:00:00\",\n        \"num_unique_values\": 45292,\n        \"samples\": [\n          \"2012-11-22 00:00:00\",\n          \"2002-12-27 00:00:00\",\n          \"2019-04-08 12:00:00\"\n        ],\n        \"semantic_type\": \"\",\n        \"description\": \"\"\n      }\n    },\n    {\n      \"column\": \"HGT_prl\",\n      \"properties\": {\n        \"dtype\": \"float32\",\n        \"num_unique_values\": 24042,\n        \"samples\": [\n          5861.91845703125,\n          5848.57177734375,\n          5872.9775390625\n        ],\n        \"semantic_type\": \"\",\n        \"description\": \"\"\n      }\n    },\n    {\n      \"column\": \"lat\",\n      \"properties\": {\n        \"dtype\": \"number\",\n        \"std\": 3.552752899551517e-15,\n        \"min\": 13.68,\n        \"max\": 13.68,\n        \"num_unique_values\": 1,\n        \"samples\": [\n          13.68\n        ],\n        \"semantic_type\": \"\",\n        \"description\": \"\"\n      }\n    },\n    {\n      \"column\": \"lon\",\n      \"properties\": {\n        \"dtype\": \"number\",\n        \"std\": 1.4211011598206068e-14,\n        \"min\": 80.15999999999998,\n        \"max\": 80.15999999999998,\n        \"num_unique_values\": 1,\n        \"samples\": [\n          80.15999999999998\n        ],\n        \"semantic_type\": \"\",\n        \"description\": \"\"\n      }\n    },\n    {\n      \"column\": \"TMP_prl\",\n      \"properties\": {\n        \"dtype\": \"float32\",\n        \"num_unique_values\": 39359,\n        \"samples\": [\n          293.3094177246094\n        ],\n        \"semantic_type\": \"\",\n        \"description\": \"\"\n      }\n    },\n    {\n      \"column\": \"TMP_2m\",\n      \"properties\": {\n        \"dtype\": \"float32\",\n        \"num_unique_values\": 40536,\n        \"samples\": [\n          301.3248291015625\n        ],\n        \"semantic_type\": \"\",\n        \"description\": \"\"\n      }\n    },\n    {\n      \"column\": \"APCP_sfc\",\n      \"properties\": {\n        \"dtype\": \"float32\",\n        \"num_unique_values\": 4239,\n        \"samples\": [\n          1.7655668593796747e-13\n        ],\n        \"semantic_type\": \"\",\n        \"description\": \"\"\n      }\n    }\n  ]\n}"
            }
          },
          "metadata": {},
          "execution_count": 18
        }
      ]
    },
    {
      "cell_type": "code",
      "source": [
        "df.info()"
      ],
      "metadata": {
        "colab": {
          "base_uri": "https://localhost:8080/"
        },
        "id": "X4U6ysYxevUY",
        "outputId": "55fe4868-85ee-437c-db2b-acd316880de8"
      },
      "execution_count": 19,
      "outputs": [
        {
          "output_type": "stream",
          "name": "stdout",
          "text": [
            "<class 'pandas.core.frame.DataFrame'>\n",
            "RangeIndex: 45292 entries, 0 to 45291\n",
            "Data columns (total 7 columns):\n",
            " #   Column    Non-Null Count  Dtype         \n",
            "---  ------    --------------  -----         \n",
            " 0   time      45292 non-null  datetime64[ns]\n",
            " 1   HGT_prl   45292 non-null  float32       \n",
            " 2   lat       45292 non-null  float64       \n",
            " 3   lon       45292 non-null  float64       \n",
            " 4   TMP_prl   45292 non-null  float32       \n",
            " 5   TMP_2m    45292 non-null  float32       \n",
            " 6   APCP_sfc  45292 non-null  float32       \n",
            "dtypes: datetime64[ns](1), float32(4), float64(2)\n",
            "memory usage: 1.7 MB\n"
          ]
        }
      ]
    },
    {
      "cell_type": "code",
      "source": [
        "# Ensure 'time' is a coordinate in your xarray dataset\n",
        "if 'time' not in nearest_data:\n",
        "    nearest_data = nearest_data.set_coords('time')\n",
        "\n",
        "# Convert the nearest data to a DataFrame, keeping 'time' as a column\n",
        "df = nearest_data.to_dataframe().reset_index() # Make sure to reset the index here\n",
        "\n",
        "# Now 'df' contains only the data for the nearest lat/lon with 'time' as a column\n",
        "\n",
        "df = df.set_index('time')  # Now you can set 'time' as index\n",
        "\n",
        "# Use loc with string slicing for filtering\n",
        "data_train = df.loc['1990':'2018']\n",
        "data_test = df.loc['2019':'2020']\n",
        "test_data = df.loc['2019':'2020']"
      ],
      "metadata": {
        "id": "nnNR1mwOcV-7"
      },
      "execution_count": 20,
      "outputs": []
    },
    {
      "cell_type": "code",
      "source": [
        "data_mean = data_train.mean()\n",
        "data_std = data_train.std()"
      ],
      "metadata": {
        "id": "gYDkKj9lnm4u"
      },
      "execution_count": 21,
      "outputs": []
    },
    {
      "cell_type": "code",
      "source": [
        "data_std"
      ],
      "metadata": {
        "colab": {
          "base_uri": "https://localhost:8080/",
          "height": 272
        },
        "id": "4XcCqjPOoKms",
        "outputId": "0e6a8ef3-f345-4550-d3e1-47881b1f3eef"
      },
      "execution_count": 22,
      "outputs": [
        {
          "output_type": "execute_result",
          "data": {
            "text/plain": [
              "HGT_prl     1.838180e+01\n",
              "lat         5.329133e-15\n",
              "lon         0.000000e+00\n",
              "TMP_prl     2.954468e+00\n",
              "TMP_2m      1.965149e+00\n",
              "APCP_sfc    5.753674e+00\n",
              "dtype: float64"
            ],
            "text/html": [
              "<div>\n",
              "<style scoped>\n",
              "    .dataframe tbody tr th:only-of-type {\n",
              "        vertical-align: middle;\n",
              "    }\n",
              "\n",
              "    .dataframe tbody tr th {\n",
              "        vertical-align: top;\n",
              "    }\n",
              "\n",
              "    .dataframe thead th {\n",
              "        text-align: right;\n",
              "    }\n",
              "</style>\n",
              "<table border=\"1\" class=\"dataframe\">\n",
              "  <thead>\n",
              "    <tr style=\"text-align: right;\">\n",
              "      <th></th>\n",
              "      <th>0</th>\n",
              "    </tr>\n",
              "  </thead>\n",
              "  <tbody>\n",
              "    <tr>\n",
              "      <th>HGT_prl</th>\n",
              "      <td>1.838180e+01</td>\n",
              "    </tr>\n",
              "    <tr>\n",
              "      <th>lat</th>\n",
              "      <td>5.329133e-15</td>\n",
              "    </tr>\n",
              "    <tr>\n",
              "      <th>lon</th>\n",
              "      <td>0.000000e+00</td>\n",
              "    </tr>\n",
              "    <tr>\n",
              "      <th>TMP_prl</th>\n",
              "      <td>2.954468e+00</td>\n",
              "    </tr>\n",
              "    <tr>\n",
              "      <th>TMP_2m</th>\n",
              "      <td>1.965149e+00</td>\n",
              "    </tr>\n",
              "    <tr>\n",
              "      <th>APCP_sfc</th>\n",
              "      <td>5.753674e+00</td>\n",
              "    </tr>\n",
              "  </tbody>\n",
              "</table>\n",
              "</div><br><label><b>dtype:</b> float64</label>"
            ]
          },
          "metadata": {},
          "execution_count": 22
        }
      ]
    },
    {
      "cell_type": "code",
      "source": [
        "data_train = (data_train - data_mean) / data_std\n",
        "data_test = (data_test - data_mean) / data_std"
      ],
      "metadata": {
        "id": "WllT5c4KoxrZ"
      },
      "execution_count": 23,
      "outputs": []
    },
    {
      "cell_type": "code",
      "source": [
        "nlat, nlon = data_train.HGT_prl.shape[0], 1  # Assuming 'HGT_prl' is 1D\n",
        "print(nlat, nlon)"
      ],
      "metadata": {
        "colab": {
          "base_uri": "https://localhost:8080/"
        },
        "id": "KTtbVmeupK-3",
        "outputId": "9824274a-9589-4a76-a4ab-2aa5c1371f77"
      },
      "execution_count": 24,
      "outputs": [
        {
          "output_type": "stream",
          "name": "stdout",
          "text": [
            "42368 1\n"
          ]
        }
      ]
    },
    {
      "cell_type": "code",
      "source": [
        "data_train"
      ],
      "metadata": {
        "colab": {
          "base_uri": "https://localhost:8080/",
          "height": 455
        },
        "id": "FLd417YAply_",
        "outputId": "7ae6d83e-2cbf-427c-f7f8-795bc322a688"
      },
      "execution_count": 25,
      "outputs": [
        {
          "output_type": "execute_result",
          "data": {
            "text/plain": [
              "                      HGT_prl       lat  lon   TMP_prl    TMP_2m  APCP_sfc\n",
              "time                                                                      \n",
              "1990-01-01 00:00:00 -0.698827 -0.999988  NaN -1.078162 -1.204181 -0.157532\n",
              "1990-01-01 06:00:00 -0.421586 -0.999988  NaN -1.400002 -1.263130 -0.157532\n",
              "1990-01-01 12:00:00 -0.584791 -0.999988  NaN -1.042309 -1.070907 -0.157532\n",
              "1990-01-01 18:00:00 -0.822240 -0.999988  NaN -1.409567 -1.159829 -0.157532\n",
              "1990-01-02 00:00:00 -0.650057 -0.999988  NaN -1.620966 -1.021431 -0.146670\n",
              "...                       ...       ...  ...       ...       ...       ...\n",
              "2018-12-30 18:00:00  1.314485 -0.999988  NaN -2.070704 -1.289328 -0.157532\n",
              "2018-12-31 00:00:00  1.260083 -0.999988  NaN -2.763366 -1.315977 -0.157532\n",
              "2018-12-31 06:00:00  1.504890 -0.999988  NaN -2.950884 -1.674690 -0.157532\n",
              "2018-12-31 12:00:00  1.794244 -0.999988  NaN -1.866421 -1.487406 -0.157532\n",
              "2018-12-31 18:00:00  1.585829 -0.999988  NaN -1.760061 -1.610134 -0.157532\n",
              "\n",
              "[42368 rows x 6 columns]"
            ],
            "text/html": [
              "\n",
              "  <div id=\"df-afd13274-9107-4840-a54e-a83e85aa3527\" class=\"colab-df-container\">\n",
              "    <div>\n",
              "<style scoped>\n",
              "    .dataframe tbody tr th:only-of-type {\n",
              "        vertical-align: middle;\n",
              "    }\n",
              "\n",
              "    .dataframe tbody tr th {\n",
              "        vertical-align: top;\n",
              "    }\n",
              "\n",
              "    .dataframe thead th {\n",
              "        text-align: right;\n",
              "    }\n",
              "</style>\n",
              "<table border=\"1\" class=\"dataframe\">\n",
              "  <thead>\n",
              "    <tr style=\"text-align: right;\">\n",
              "      <th></th>\n",
              "      <th>HGT_prl</th>\n",
              "      <th>lat</th>\n",
              "      <th>lon</th>\n",
              "      <th>TMP_prl</th>\n",
              "      <th>TMP_2m</th>\n",
              "      <th>APCP_sfc</th>\n",
              "    </tr>\n",
              "    <tr>\n",
              "      <th>time</th>\n",
              "      <th></th>\n",
              "      <th></th>\n",
              "      <th></th>\n",
              "      <th></th>\n",
              "      <th></th>\n",
              "      <th></th>\n",
              "    </tr>\n",
              "  </thead>\n",
              "  <tbody>\n",
              "    <tr>\n",
              "      <th>1990-01-01 00:00:00</th>\n",
              "      <td>-0.698827</td>\n",
              "      <td>-0.999988</td>\n",
              "      <td>NaN</td>\n",
              "      <td>-1.078162</td>\n",
              "      <td>-1.204181</td>\n",
              "      <td>-0.157532</td>\n",
              "    </tr>\n",
              "    <tr>\n",
              "      <th>1990-01-01 06:00:00</th>\n",
              "      <td>-0.421586</td>\n",
              "      <td>-0.999988</td>\n",
              "      <td>NaN</td>\n",
              "      <td>-1.400002</td>\n",
              "      <td>-1.263130</td>\n",
              "      <td>-0.157532</td>\n",
              "    </tr>\n",
              "    <tr>\n",
              "      <th>1990-01-01 12:00:00</th>\n",
              "      <td>-0.584791</td>\n",
              "      <td>-0.999988</td>\n",
              "      <td>NaN</td>\n",
              "      <td>-1.042309</td>\n",
              "      <td>-1.070907</td>\n",
              "      <td>-0.157532</td>\n",
              "    </tr>\n",
              "    <tr>\n",
              "      <th>1990-01-01 18:00:00</th>\n",
              "      <td>-0.822240</td>\n",
              "      <td>-0.999988</td>\n",
              "      <td>NaN</td>\n",
              "      <td>-1.409567</td>\n",
              "      <td>-1.159829</td>\n",
              "      <td>-0.157532</td>\n",
              "    </tr>\n",
              "    <tr>\n",
              "      <th>1990-01-02 00:00:00</th>\n",
              "      <td>-0.650057</td>\n",
              "      <td>-0.999988</td>\n",
              "      <td>NaN</td>\n",
              "      <td>-1.620966</td>\n",
              "      <td>-1.021431</td>\n",
              "      <td>-0.146670</td>\n",
              "    </tr>\n",
              "    <tr>\n",
              "      <th>...</th>\n",
              "      <td>...</td>\n",
              "      <td>...</td>\n",
              "      <td>...</td>\n",
              "      <td>...</td>\n",
              "      <td>...</td>\n",
              "      <td>...</td>\n",
              "    </tr>\n",
              "    <tr>\n",
              "      <th>2018-12-30 18:00:00</th>\n",
              "      <td>1.314485</td>\n",
              "      <td>-0.999988</td>\n",
              "      <td>NaN</td>\n",
              "      <td>-2.070704</td>\n",
              "      <td>-1.289328</td>\n",
              "      <td>-0.157532</td>\n",
              "    </tr>\n",
              "    <tr>\n",
              "      <th>2018-12-31 00:00:00</th>\n",
              "      <td>1.260083</td>\n",
              "      <td>-0.999988</td>\n",
              "      <td>NaN</td>\n",
              "      <td>-2.763366</td>\n",
              "      <td>-1.315977</td>\n",
              "      <td>-0.157532</td>\n",
              "    </tr>\n",
              "    <tr>\n",
              "      <th>2018-12-31 06:00:00</th>\n",
              "      <td>1.504890</td>\n",
              "      <td>-0.999988</td>\n",
              "      <td>NaN</td>\n",
              "      <td>-2.950884</td>\n",
              "      <td>-1.674690</td>\n",
              "      <td>-0.157532</td>\n",
              "    </tr>\n",
              "    <tr>\n",
              "      <th>2018-12-31 12:00:00</th>\n",
              "      <td>1.794244</td>\n",
              "      <td>-0.999988</td>\n",
              "      <td>NaN</td>\n",
              "      <td>-1.866421</td>\n",
              "      <td>-1.487406</td>\n",
              "      <td>-0.157532</td>\n",
              "    </tr>\n",
              "    <tr>\n",
              "      <th>2018-12-31 18:00:00</th>\n",
              "      <td>1.585829</td>\n",
              "      <td>-0.999988</td>\n",
              "      <td>NaN</td>\n",
              "      <td>-1.760061</td>\n",
              "      <td>-1.610134</td>\n",
              "      <td>-0.157532</td>\n",
              "    </tr>\n",
              "  </tbody>\n",
              "</table>\n",
              "<p>42368 rows × 6 columns</p>\n",
              "</div>\n",
              "    <div class=\"colab-df-buttons\">\n",
              "\n",
              "  <div class=\"colab-df-container\">\n",
              "    <button class=\"colab-df-convert\" onclick=\"convertToInteractive('df-afd13274-9107-4840-a54e-a83e85aa3527')\"\n",
              "            title=\"Convert this dataframe to an interactive table.\"\n",
              "            style=\"display:none;\">\n",
              "\n",
              "  <svg xmlns=\"http://www.w3.org/2000/svg\" height=\"24px\" viewBox=\"0 -960 960 960\">\n",
              "    <path d=\"M120-120v-720h720v720H120Zm60-500h600v-160H180v160Zm220 220h160v-160H400v160Zm0 220h160v-160H400v160ZM180-400h160v-160H180v160Zm440 0h160v-160H620v160ZM180-180h160v-160H180v160Zm440 0h160v-160H620v160Z\"/>\n",
              "  </svg>\n",
              "    </button>\n",
              "\n",
              "  <style>\n",
              "    .colab-df-container {\n",
              "      display:flex;\n",
              "      gap: 12px;\n",
              "    }\n",
              "\n",
              "    .colab-df-convert {\n",
              "      background-color: #E8F0FE;\n",
              "      border: none;\n",
              "      border-radius: 50%;\n",
              "      cursor: pointer;\n",
              "      display: none;\n",
              "      fill: #1967D2;\n",
              "      height: 32px;\n",
              "      padding: 0 0 0 0;\n",
              "      width: 32px;\n",
              "    }\n",
              "\n",
              "    .colab-df-convert:hover {\n",
              "      background-color: #E2EBFA;\n",
              "      box-shadow: 0px 1px 2px rgba(60, 64, 67, 0.3), 0px 1px 3px 1px rgba(60, 64, 67, 0.15);\n",
              "      fill: #174EA6;\n",
              "    }\n",
              "\n",
              "    .colab-df-buttons div {\n",
              "      margin-bottom: 4px;\n",
              "    }\n",
              "\n",
              "    [theme=dark] .colab-df-convert {\n",
              "      background-color: #3B4455;\n",
              "      fill: #D2E3FC;\n",
              "    }\n",
              "\n",
              "    [theme=dark] .colab-df-convert:hover {\n",
              "      background-color: #434B5C;\n",
              "      box-shadow: 0px 1px 3px 1px rgba(0, 0, 0, 0.15);\n",
              "      filter: drop-shadow(0px 1px 2px rgba(0, 0, 0, 0.3));\n",
              "      fill: #FFFFFF;\n",
              "    }\n",
              "  </style>\n",
              "\n",
              "    <script>\n",
              "      const buttonEl =\n",
              "        document.querySelector('#df-afd13274-9107-4840-a54e-a83e85aa3527 button.colab-df-convert');\n",
              "      buttonEl.style.display =\n",
              "        google.colab.kernel.accessAllowed ? 'block' : 'none';\n",
              "\n",
              "      async function convertToInteractive(key) {\n",
              "        const element = document.querySelector('#df-afd13274-9107-4840-a54e-a83e85aa3527');\n",
              "        const dataTable =\n",
              "          await google.colab.kernel.invokeFunction('convertToInteractive',\n",
              "                                                    [key], {});\n",
              "        if (!dataTable) return;\n",
              "\n",
              "        const docLinkHtml = 'Like what you see? Visit the ' +\n",
              "          '<a target=\"_blank\" href=https://colab.research.google.com/notebooks/data_table.ipynb>data table notebook</a>'\n",
              "          + ' to learn more about interactive tables.';\n",
              "        element.innerHTML = '';\n",
              "        dataTable['output_type'] = 'display_data';\n",
              "        await google.colab.output.renderOutput(dataTable, element);\n",
              "        const docLink = document.createElement('div');\n",
              "        docLink.innerHTML = docLinkHtml;\n",
              "        element.appendChild(docLink);\n",
              "      }\n",
              "    </script>\n",
              "  </div>\n",
              "\n",
              "\n",
              "<div id=\"df-f9185e03-c065-448c-bad1-01df8472e1cb\">\n",
              "  <button class=\"colab-df-quickchart\" onclick=\"quickchart('df-f9185e03-c065-448c-bad1-01df8472e1cb')\"\n",
              "            title=\"Suggest charts\"\n",
              "            style=\"display:none;\">\n",
              "\n",
              "<svg xmlns=\"http://www.w3.org/2000/svg\" height=\"24px\"viewBox=\"0 0 24 24\"\n",
              "     width=\"24px\">\n",
              "    <g>\n",
              "        <path d=\"M19 3H5c-1.1 0-2 .9-2 2v14c0 1.1.9 2 2 2h14c1.1 0 2-.9 2-2V5c0-1.1-.9-2-2-2zM9 17H7v-7h2v7zm4 0h-2V7h2v10zm4 0h-2v-4h2v4z\"/>\n",
              "    </g>\n",
              "</svg>\n",
              "  </button>\n",
              "\n",
              "<style>\n",
              "  .colab-df-quickchart {\n",
              "      --bg-color: #E8F0FE;\n",
              "      --fill-color: #1967D2;\n",
              "      --hover-bg-color: #E2EBFA;\n",
              "      --hover-fill-color: #174EA6;\n",
              "      --disabled-fill-color: #AAA;\n",
              "      --disabled-bg-color: #DDD;\n",
              "  }\n",
              "\n",
              "  [theme=dark] .colab-df-quickchart {\n",
              "      --bg-color: #3B4455;\n",
              "      --fill-color: #D2E3FC;\n",
              "      --hover-bg-color: #434B5C;\n",
              "      --hover-fill-color: #FFFFFF;\n",
              "      --disabled-bg-color: #3B4455;\n",
              "      --disabled-fill-color: #666;\n",
              "  }\n",
              "\n",
              "  .colab-df-quickchart {\n",
              "    background-color: var(--bg-color);\n",
              "    border: none;\n",
              "    border-radius: 50%;\n",
              "    cursor: pointer;\n",
              "    display: none;\n",
              "    fill: var(--fill-color);\n",
              "    height: 32px;\n",
              "    padding: 0;\n",
              "    width: 32px;\n",
              "  }\n",
              "\n",
              "  .colab-df-quickchart:hover {\n",
              "    background-color: var(--hover-bg-color);\n",
              "    box-shadow: 0 1px 2px rgba(60, 64, 67, 0.3), 0 1px 3px 1px rgba(60, 64, 67, 0.15);\n",
              "    fill: var(--button-hover-fill-color);\n",
              "  }\n",
              "\n",
              "  .colab-df-quickchart-complete:disabled,\n",
              "  .colab-df-quickchart-complete:disabled:hover {\n",
              "    background-color: var(--disabled-bg-color);\n",
              "    fill: var(--disabled-fill-color);\n",
              "    box-shadow: none;\n",
              "  }\n",
              "\n",
              "  .colab-df-spinner {\n",
              "    border: 2px solid var(--fill-color);\n",
              "    border-color: transparent;\n",
              "    border-bottom-color: var(--fill-color);\n",
              "    animation:\n",
              "      spin 1s steps(1) infinite;\n",
              "  }\n",
              "\n",
              "  @keyframes spin {\n",
              "    0% {\n",
              "      border-color: transparent;\n",
              "      border-bottom-color: var(--fill-color);\n",
              "      border-left-color: var(--fill-color);\n",
              "    }\n",
              "    20% {\n",
              "      border-color: transparent;\n",
              "      border-left-color: var(--fill-color);\n",
              "      border-top-color: var(--fill-color);\n",
              "    }\n",
              "    30% {\n",
              "      border-color: transparent;\n",
              "      border-left-color: var(--fill-color);\n",
              "      border-top-color: var(--fill-color);\n",
              "      border-right-color: var(--fill-color);\n",
              "    }\n",
              "    40% {\n",
              "      border-color: transparent;\n",
              "      border-right-color: var(--fill-color);\n",
              "      border-top-color: var(--fill-color);\n",
              "    }\n",
              "    60% {\n",
              "      border-color: transparent;\n",
              "      border-right-color: var(--fill-color);\n",
              "    }\n",
              "    80% {\n",
              "      border-color: transparent;\n",
              "      border-right-color: var(--fill-color);\n",
              "      border-bottom-color: var(--fill-color);\n",
              "    }\n",
              "    90% {\n",
              "      border-color: transparent;\n",
              "      border-bottom-color: var(--fill-color);\n",
              "    }\n",
              "  }\n",
              "</style>\n",
              "\n",
              "  <script>\n",
              "    async function quickchart(key) {\n",
              "      const quickchartButtonEl =\n",
              "        document.querySelector('#' + key + ' button');\n",
              "      quickchartButtonEl.disabled = true;  // To prevent multiple clicks.\n",
              "      quickchartButtonEl.classList.add('colab-df-spinner');\n",
              "      try {\n",
              "        const charts = await google.colab.kernel.invokeFunction(\n",
              "            'suggestCharts', [key], {});\n",
              "      } catch (error) {\n",
              "        console.error('Error during call to suggestCharts:', error);\n",
              "      }\n",
              "      quickchartButtonEl.classList.remove('colab-df-spinner');\n",
              "      quickchartButtonEl.classList.add('colab-df-quickchart-complete');\n",
              "    }\n",
              "    (() => {\n",
              "      let quickchartButtonEl =\n",
              "        document.querySelector('#df-f9185e03-c065-448c-bad1-01df8472e1cb button');\n",
              "      quickchartButtonEl.style.display =\n",
              "        google.colab.kernel.accessAllowed ? 'block' : 'none';\n",
              "    })();\n",
              "  </script>\n",
              "</div>\n",
              "\n",
              "  <div id=\"id_8e95a226-d8dd-48fe-936c-c48dd013548b\">\n",
              "    <style>\n",
              "      .colab-df-generate {\n",
              "        background-color: #E8F0FE;\n",
              "        border: none;\n",
              "        border-radius: 50%;\n",
              "        cursor: pointer;\n",
              "        display: none;\n",
              "        fill: #1967D2;\n",
              "        height: 32px;\n",
              "        padding: 0 0 0 0;\n",
              "        width: 32px;\n",
              "      }\n",
              "\n",
              "      .colab-df-generate:hover {\n",
              "        background-color: #E2EBFA;\n",
              "        box-shadow: 0px 1px 2px rgba(60, 64, 67, 0.3), 0px 1px 3px 1px rgba(60, 64, 67, 0.15);\n",
              "        fill: #174EA6;\n",
              "      }\n",
              "\n",
              "      [theme=dark] .colab-df-generate {\n",
              "        background-color: #3B4455;\n",
              "        fill: #D2E3FC;\n",
              "      }\n",
              "\n",
              "      [theme=dark] .colab-df-generate:hover {\n",
              "        background-color: #434B5C;\n",
              "        box-shadow: 0px 1px 3px 1px rgba(0, 0, 0, 0.15);\n",
              "        filter: drop-shadow(0px 1px 2px rgba(0, 0, 0, 0.3));\n",
              "        fill: #FFFFFF;\n",
              "      }\n",
              "    </style>\n",
              "    <button class=\"colab-df-generate\" onclick=\"generateWithVariable('data_train')\"\n",
              "            title=\"Generate code using this dataframe.\"\n",
              "            style=\"display:none;\">\n",
              "\n",
              "  <svg xmlns=\"http://www.w3.org/2000/svg\" height=\"24px\"viewBox=\"0 0 24 24\"\n",
              "       width=\"24px\">\n",
              "    <path d=\"M7,19H8.4L18.45,9,17,7.55,7,17.6ZM5,21V16.75L18.45,3.32a2,2,0,0,1,2.83,0l1.4,1.43a1.91,1.91,0,0,1,.58,1.4,1.91,1.91,0,0,1-.58,1.4L9.25,21ZM18.45,9,17,7.55Zm-12,3A5.31,5.31,0,0,0,4.9,8.1,5.31,5.31,0,0,0,1,6.5,5.31,5.31,0,0,0,4.9,4.9,5.31,5.31,0,0,0,6.5,1,5.31,5.31,0,0,0,8.1,4.9,5.31,5.31,0,0,0,12,6.5,5.46,5.46,0,0,0,6.5,12Z\"/>\n",
              "  </svg>\n",
              "    </button>\n",
              "    <script>\n",
              "      (() => {\n",
              "      const buttonEl =\n",
              "        document.querySelector('#id_8e95a226-d8dd-48fe-936c-c48dd013548b button.colab-df-generate');\n",
              "      buttonEl.style.display =\n",
              "        google.colab.kernel.accessAllowed ? 'block' : 'none';\n",
              "\n",
              "      buttonEl.onclick = () => {\n",
              "        google.colab.notebook.generateWithVariable('data_train');\n",
              "      }\n",
              "      })();\n",
              "    </script>\n",
              "  </div>\n",
              "\n",
              "    </div>\n",
              "  </div>\n"
            ],
            "application/vnd.google.colaboratory.intrinsic+json": {
              "type": "dataframe",
              "variable_name": "data_train",
              "summary": "{\n  \"name\": \"data_train\",\n  \"rows\": 42368,\n  \"fields\": [\n    {\n      \"column\": \"time\",\n      \"properties\": {\n        \"dtype\": \"date\",\n        \"min\": \"1990-01-01 00:00:00\",\n        \"max\": \"2018-12-31 18:00:00\",\n        \"num_unique_values\": 42368,\n        \"samples\": [\n          \"2009-02-07 18:00:00\",\n          \"2010-10-10 06:00:00\",\n          \"1998-07-30 00:00:00\"\n        ],\n        \"semantic_type\": \"\",\n        \"description\": \"\"\n      }\n    },\n    {\n      \"column\": \"HGT_prl\",\n      \"properties\": {\n        \"dtype\": \"number\",\n        \"std\": 0.9999999725263798,\n        \"min\": -7.4632230676474745,\n        \"max\": 3.61946130677502,\n        \"num_unique_values\": 22510,\n        \"samples\": [\n          -1.3044436759074762,\n          -0.47853774047433534,\n          -0.43258324194418823\n        ],\n        \"semantic_type\": \"\",\n        \"description\": \"\"\n      }\n    },\n    {\n      \"column\": \"lat\",\n      \"properties\": {\n        \"dtype\": \"number\",\n        \"std\": 2.220472253996306e-16,\n        \"min\": -0.9999881985708465,\n        \"max\": -0.9999881985708465,\n        \"num_unique_values\": 1,\n        \"samples\": [\n          -0.9999881985708465\n        ],\n        \"semantic_type\": \"\",\n        \"description\": \"\"\n      }\n    },\n    {\n      \"column\": \"lon\",\n      \"properties\": {\n        \"dtype\": \"number\",\n        \"std\": null,\n        \"min\": null,\n        \"max\": null,\n        \"num_unique_values\": 0,\n        \"samples\": [],\n        \"semantic_type\": \"\",\n        \"description\": \"\"\n      }\n    },\n    {\n      \"column\": \"TMP_prl\",\n      \"properties\": {\n        \"dtype\": \"number\",\n        \"std\": 0.9999999747392505,\n        \"min\": -3.1112462886149275,\n        \"max\": 3.600565754974384,\n        \"num_unique_values\": 37034,\n        \"samples\": [],\n        \"semantic_type\": \"\",\n        \"description\": \"\"\n      }\n    },\n    {\n      \"column\": \"TMP_2m\",\n      \"properties\": {\n        \"dtype\": \"number\",\n        \"std\": 0.9999999867787491,\n        \"min\": -3.926732304251949,\n        \"max\": 3.659844084852626,\n        \"num_unique_values\": 38207,\n        \"samples\": [],\n        \"semantic_type\": \"\",\n        \"description\": \"\"\n      }\n    },\n    {\n      \"column\": \"APCP_sfc\",\n      \"properties\": {\n        \"dtype\": \"number\",\n        \"std\": 1.0000000437162846,\n        \"min\": -0.15753232611177767,\n        \"max\": 52.23562088560655,\n        \"num_unique_values\": 3199,\n        \"samples\": [],\n        \"semantic_type\": \"\",\n        \"description\": \"\"\n      }\n    }\n  ]\n}"
            }
          },
          "metadata": {},
          "execution_count": 25
        }
      ]
    },
    {
      "cell_type": "code",
      "source": [
        "from sklearn.linear_model import LinearRegression\n",
        "from sklearn.metrics import mean_squared_error"
      ],
      "metadata": {
        "id": "sYjpCs5Cp8v2"
      },
      "execution_count": 26,
      "outputs": []
    },
    {
      "cell_type": "code",
      "source": [
        "def create_training_data(da, lead_time_h, return_valid_time=False):\n",
        "    \"\"\"Function to split input and output by lead time.\"\"\"\n",
        "    X = da.isel(time=slice(0, -lead_time_h))\n",
        "    y = da.isel(time=slice(lead_time_h, None))\n",
        "    valid_time = y.time\n",
        "    if return_valid_time:\n",
        "        return X.values.reshape(-1, nlat*nlon), y.values.reshape(-1, nlat*nlon), valid_time\n",
        "    else:\n",
        "        return X.values.reshape(-1, nlat*nlon), y.values.reshape(-1, nlat*nlon)"
      ],
      "metadata": {
        "id": "3eEEEHJbqRjX"
      },
      "execution_count": 27,
      "outputs": []
    },
    {
      "cell_type": "code",
      "source": [
        "def train_lr(lead_time_h, input_vars, output_vars, data_subsample=1):\n",
        "    \"\"\"Create data, train a linear regression and return the predictions.\"\"\"\n",
        "    X_train, y_train, X_test, y_test = [], [], [], []\n",
        "    for v in input_vars:\n",
        "        X, y = create_training_data(\n",
        "            data_train[v],\n",
        "            lead_time_h\n",
        "        )\n",
        "\n",
        "        X_train.append(X)\n",
        "        if v in output_vars: y_train.append(y)\n",
        "        X, y, valid_time = create_training_data(data_test[v], lead_time_h, return_valid_time=True)\n",
        "        X_test.append(X)\n",
        "        if v in output_vars: y_test.append(y)\n",
        "    X_train, y_train, X_test, y_test = [np.concatenate(d, 1) for d in [X_train, y_train, X_test, y_test]]\n",
        "\n",
        "\n",
        "    X_train = X_train[::data_subsample]\n",
        "    y_train = y_train[::data_subsample]\n",
        "\n",
        "\n",
        "    lr = LinearRegression(n_jobs=16)\n",
        "    lr.fit(X_train, y_train)\n",
        "\n",
        "    mse_train = mean_squared_error(y_train, lr.predict(X_train))\n",
        "    mse_test = mean_squared_error(y_test, lr.predict(X_test))\n",
        "    print(f'Train MSE = {mse_train}'); print(f'Test MSE = {mse_test}')\n",
        "    preds = lr.predict(X_test).reshape((-1, len(output_vars), nlat, nlon))\n",
        "\n",
        "\n",
        "    fcs = []\n",
        "    for i, v in enumerate(output_vars):\n",
        "        fc = xr.DataArray(\n",
        "            preds[:, i] * data_std[v].values + data_mean[v].values,\n",
        "            dims=['time', 'latitude', 'longitude'],\n",
        "            coords={\n",
        "                'time': valid_time,\n",
        "                'lat': data_train.lat,\n",
        "                'lon': data_train.lon\n",
        "            },\n",
        "            name=v\n",
        "        )\n",
        "        fcs.append(fc)\n",
        "    return xr.merge(fcs), lr"
      ],
      "metadata": {
        "id": "mPSJu9soqazq"
      },
      "execution_count": 28,
      "outputs": []
    },
    {
      "cell_type": "code",
      "source": [
        "var_name = ['HGT_prl', 'TMP_prl', 'TMP_2m', 'APCP_sfc']"
      ],
      "metadata": {
        "id": "2Ns4NrpkqfzK"
      },
      "execution_count": 29,
      "outputs": []
    },
    {
      "cell_type": "code",
      "source": [
        "ds = df['TMP_prl']\n",
        "ds"
      ],
      "metadata": {
        "colab": {
          "base_uri": "https://localhost:8080/",
          "height": 489
        },
        "id": "gKstsJpBJ3QD",
        "outputId": "e31846d4-2087-4fdf-bd2a-08e7ca70c9a6"
      },
      "execution_count": 30,
      "outputs": [
        {
          "output_type": "execute_result",
          "data": {
            "text/plain": [
              "time\n",
              "1990-01-01 00:00:00    289.792603\n",
              "1990-01-01 06:00:00    288.841736\n",
              "1990-01-01 12:00:00    289.898529\n",
              "1990-01-01 18:00:00    288.813477\n",
              "1990-01-02 00:00:00    288.188904\n",
              "                          ...    \n",
              "2020-12-30 18:00:00    289.661072\n",
              "2020-12-31 00:00:00    288.696533\n",
              "2020-12-31 06:00:00    288.021820\n",
              "2020-12-31 12:00:00    288.190491\n",
              "2020-12-31 18:00:00    286.707123\n",
              "Name: TMP_prl, Length: 45292, dtype: float32"
            ],
            "text/html": [
              "<div>\n",
              "<style scoped>\n",
              "    .dataframe tbody tr th:only-of-type {\n",
              "        vertical-align: middle;\n",
              "    }\n",
              "\n",
              "    .dataframe tbody tr th {\n",
              "        vertical-align: top;\n",
              "    }\n",
              "\n",
              "    .dataframe thead th {\n",
              "        text-align: right;\n",
              "    }\n",
              "</style>\n",
              "<table border=\"1\" class=\"dataframe\">\n",
              "  <thead>\n",
              "    <tr style=\"text-align: right;\">\n",
              "      <th></th>\n",
              "      <th>TMP_prl</th>\n",
              "    </tr>\n",
              "    <tr>\n",
              "      <th>time</th>\n",
              "      <th></th>\n",
              "    </tr>\n",
              "  </thead>\n",
              "  <tbody>\n",
              "    <tr>\n",
              "      <th>1990-01-01 00:00:00</th>\n",
              "      <td>289.792603</td>\n",
              "    </tr>\n",
              "    <tr>\n",
              "      <th>1990-01-01 06:00:00</th>\n",
              "      <td>288.841736</td>\n",
              "    </tr>\n",
              "    <tr>\n",
              "      <th>1990-01-01 12:00:00</th>\n",
              "      <td>289.898529</td>\n",
              "    </tr>\n",
              "    <tr>\n",
              "      <th>1990-01-01 18:00:00</th>\n",
              "      <td>288.813477</td>\n",
              "    </tr>\n",
              "    <tr>\n",
              "      <th>1990-01-02 00:00:00</th>\n",
              "      <td>288.188904</td>\n",
              "    </tr>\n",
              "    <tr>\n",
              "      <th>...</th>\n",
              "      <td>...</td>\n",
              "    </tr>\n",
              "    <tr>\n",
              "      <th>2020-12-30 18:00:00</th>\n",
              "      <td>289.661072</td>\n",
              "    </tr>\n",
              "    <tr>\n",
              "      <th>2020-12-31 00:00:00</th>\n",
              "      <td>288.696533</td>\n",
              "    </tr>\n",
              "    <tr>\n",
              "      <th>2020-12-31 06:00:00</th>\n",
              "      <td>288.021820</td>\n",
              "    </tr>\n",
              "    <tr>\n",
              "      <th>2020-12-31 12:00:00</th>\n",
              "      <td>288.190491</td>\n",
              "    </tr>\n",
              "    <tr>\n",
              "      <th>2020-12-31 18:00:00</th>\n",
              "      <td>286.707123</td>\n",
              "    </tr>\n",
              "  </tbody>\n",
              "</table>\n",
              "<p>45292 rows × 1 columns</p>\n",
              "</div><br><label><b>dtype:</b> float32</label>"
            ]
          },
          "metadata": {},
          "execution_count": 30
        }
      ]
    },
    {
      "cell_type": "code",
      "source": [
        "experiments = [\n",
        "    [['HGT_prl'], ['HGT_prl']],\n",
        "    [['TMP_prl'], ['TMP_prl']],\n",
        "    # [['HGT_prl', 'TMP_prl'], ['HGT_prl', 'TMP_prl']],\n",
        "    [['APCP_sfc'], ['APCP_sfc']],\n",
        "    # [['HGT_prl', 'TMP_prl', 'APCP_sfc'], ['APCP_sfc']],\n",
        "    [['TMP_2m'], ['TMP_2m']],\n",
        "    # [['HGT_prl', 'TMP_prl', 'TMP_2m'], ['TMP_2m']],\n",
        "]"
      ],
      "metadata": {
        "id": "UViirz30qk9n"
      },
      "execution_count": 31,
      "outputs": []
    },
    {
      "cell_type": "code",
      "source": [
        "# training dataset selection\n",
        "train_years = slice('1990', '2017')\n",
        "# validation dataset selection (this dataset helps with overfitting)\n",
        "valid_years = slice('2018', '2018')\n",
        "# test dataset selection\n",
        "test_years = slice('2019', '2020')\n",
        "# prediction days ahead\n",
        "lead_time_steps = 20"
      ],
      "metadata": {
        "id": "q_fo2OQZBC37"
      },
      "execution_count": 32,
      "outputs": []
    },
    {
      "cell_type": "code",
      "source": [
        "import xarray as xr\n",
        "import pandas as pd\n",
        "\n",
        "def get_train_valid_test_dataset(lead_steps, data_array):\n",
        "    # Ensure data_array is an xarray DataArray\n",
        "    if not isinstance(data_array, xr.DataArray):\n",
        "        raise ValueError(\"Data_array must be an xarray DataArray object.\")\n",
        "\n",
        "    # Split the dataset\n",
        "    train_data = data_array.sel(time=train_years)\n",
        "    valid_data = data_array.sel(time=valid_years)\n",
        "    test_data = data_array.sel(time=test_years)\n",
        "\n",
        "    # Ensure no empty slices\n",
        "    if train_data.size == 0 or valid_data.size == 0 or test_data.size == 0:\n",
        "        raise ValueError(\"One of the datasets is empty. Check your data and time selection.\")\n",
        "\n",
        "    # Here, continue with your operations like reshaping, normalizing, etc.\n",
        "    # Placeholder for reshaping the arrays (adjust according to your needs)\n",
        "    X_train, Y_train = train_data, train_data  # Adjust according to actual processing\n",
        "    X_valid, Y_valid = valid_data, valid_data\n",
        "    X_test, Y_test = test_data, test_data\n",
        "\n",
        "    mean = X_train.mean()  # Placeholder for actual calculation\n",
        "    std = X_train.std()  # Placeholder for actual calculation\n",
        "\n",
        "    # Ensure the shapes are correct after processing\n",
        "    if X_train.shape[0] != Y_train.shape[0] or X_valid.shape[0] != Y_valid.shape[0] or X_test.shape[0] != Y_test.shape[0]:\n",
        "        raise ValueError(\"Mismatch between the number of samples in X and Y datasets after processing!\")\n",
        "\n",
        "    return X_train, Y_train, X_valid, Y_valid, X_test, Y_test, mean, std\n",
        "\n",
        "# Assuming 'df' is your original DataFrame and it has a 'time' index\n",
        "ds = df[['HGT_prl', 'TMP_prl', 'TMP_2m', 'APCP_sfc']]\n",
        "\n",
        "# Convert DataFrame to xarray DataArray, specifying both dimensions\n",
        "ds_xr = xr.DataArray(ds, dims=['time', 'variables'], coords={'time': ds.index, 'variables': ds.columns})\n",
        "\n",
        "try:\n",
        "    X_train, Y_train, X_valid, Y_valid, X_test, Y_test, mean, std = get_train_valid_test_dataset(lead_time_steps, ds_xr)\n",
        "\n",
        "    # Check the shapes\n",
        "    print(f\"X_train shape: {X_train.shape}\")\n",
        "    print(f\"Y_train shape: {Y_train.shape}\")\n",
        "    print(f\"X_valid shape: {X_valid.shape}\")\n",
        "    print(f\"Y_valid shape: {Y_valid.shape}\")\n",
        "    print(f\"X_test shape: {X_test.shape}\")\n",
        "    print(f\"Y_test shape: {Y_test.shape}\")\n",
        "\n",
        "except ValueError as e:\n",
        "    print(f\"Error encountered: {e}\")\n",
        "\n"
      ],
      "metadata": {
        "colab": {
          "base_uri": "https://localhost:8080/"
        },
        "id": "_yiy-zciL9Ie",
        "outputId": "0638aace-543a-4ead-fa38-8ab16b42f845"
      },
      "execution_count": 50,
      "outputs": [
        {
          "output_type": "stream",
          "name": "stdout",
          "text": [
            "X_train shape: (40908, 4)\n",
            "Y_train shape: (40908, 4)\n",
            "X_valid shape: (1460, 4)\n",
            "Y_valid shape: (1460, 4)\n",
            "X_test shape: (2924, 4)\n",
            "Y_test shape: (2924, 4)\n"
          ]
        }
      ]
    },
    {
      "cell_type": "code",
      "source": [
        "print(X_train.shape)\n",
        "print(Y_train.shape)\n",
        "print(X_valid.shape)\n",
        "print(Y_valid.shape)\n",
        "print(X_test.shape)\n",
        "print(Y_test.shape)"
      ],
      "metadata": {
        "colab": {
          "base_uri": "https://localhost:8080/"
        },
        "id": "BArG8ngMMN0I",
        "outputId": "c22fa4b2-585b-4ef3-e825-7e7f6dc2cdb3"
      },
      "execution_count": 49,
      "outputs": [
        {
          "output_type": "stream",
          "name": "stdout",
          "text": [
            "(40908, 4)\n",
            "(40908, 4)\n",
            "(1460, 4)\n",
            "(1460, 4)\n",
            "(2924, 4)\n",
            "(2924, 4)\n"
          ]
        }
      ]
    },
    {
      "cell_type": "code",
      "source": [
        "import tensorflow.keras as keras\n",
        "from tensorflow.keras import Model, Sequential\n",
        "\n",
        "from tensorflow.keras.optimizers import Adam\n",
        "\n",
        "from tensorflow.keras.losses import MeanSquaredError\n",
        "from tensorflow.keras.metrics import MeanAbsoluteError\n",
        "\n",
        "from tensorflow.keras.layers import Dense, Conv1D, LSTM, Lambda, Reshape, RNN, GRU, LSTMCell\n",
        "from keras.layers import Conv2D, MaxPooling2D, Flatten, Bidirectional, LSTM, Dense, TimeDistributed, Conv1D, MaxPooling1D, Dropout, Conv3D\n",
        "import warnings\n",
        "warnings.filterwarnings('ignore')"
      ],
      "metadata": {
        "id": "blSO2ybfKAq1"
      },
      "execution_count": 51,
      "outputs": []
    },
    {
      "cell_type": "code",
      "source": [
        "model = keras.Sequential([\n",
        "    keras.layers.Conv2D(32, 5, padding='same', activation= 'swish'),\n",
        "    # keras.layers.BatchNormalization(),\n",
        "    keras.layers.MaxPooling2D(),\n",
        "    keras.layers.Conv2D(32, 5, padding='same', activation= 'swish'),\n",
        "    keras.layers.MaxPooling2D(),\n",
        "    keras.layers.Conv2D(32, 5, padding='same', activation= 'swish'),\n",
        "    keras.layers.MaxPooling2D(),\n",
        "    keras.layers.Conv2D(32, 5, padding='same', activation= 'swish'),\n",
        "    keras.layers.MaxPooling2D(),\n",
        "\n",
        "    keras.layers.Dropout(0.2),\n",
        "\n",
        "    keras.layers.Conv2D(32, 5, padding='same', activation= 'swish'),\n",
        "    keras.layers.UpSampling2D(),\n",
        "    keras.layers.Conv2D(32, 5, padding='same', activation= 'swish'),\n",
        "    keras.layers.UpSampling2D(),\n",
        "    keras.layers.Conv2D(32, 5, padding='same', activation= 'swish'),\n",
        "    keras.layers.UpSampling2D(),\n",
        "    keras.layers.Conv2D(32, 5, padding='same', activation= 'swish'),\n",
        "    keras.layers.UpSampling2D(),\n",
        "    # keras.layers.BatchNormalization(),\n",
        "\n",
        "    keras.layers.Conv2D(1, 5, padding='same'),\n",
        "\n",
        "    # No activation since we are solving a regression problem\n",
        "])"
      ],
      "metadata": {
        "id": "iie6CJ0_KJgq"
      },
      "execution_count": 52,
      "outputs": []
    },
    {
      "cell_type": "code",
      "source": [
        "import xarray as xr\n",
        "import numpy as np\n",
        "import tensorflow as tf\n",
        "from tensorflow import keras\n",
        "\n",
        "# Convert X_train to a NumPy array and then reshape it\n",
        "X_train_np = X_train.values  # Convert xarray.DataArray to NumPy array\n",
        "X_train_reshaped = X_train_np.reshape((-1, 1, 1, 1))  # Assuming you want a single channel\n",
        "\n",
        "# Clear the existing model session if any\n",
        "keras.backend.clear_session()\n",
        "\n",
        "# Recreate the model\n",
        "model = keras.Sequential([\n",
        "    keras.layers.Conv2D(32, 5, padding='same', activation='swish', input_shape=(1, 1, 1)),  # Define input shape here\n",
        "    # ... (rest of your model layers)\n",
        "])\n",
        "\n",
        "# Compile the model - no need to build again\n",
        "model.compile(optimizer=keras.optimizers.Adam(learning_rate=1e-5), loss='mse')\n",
        "model.summary()\n",
        "\n",
        "# Proceed with training the model if required\n"
      ],
      "metadata": {
        "colab": {
          "base_uri": "https://localhost:8080/",
          "height": 178
        },
        "id": "uiOVNJYS3FcX",
        "outputId": "606bd005-63b5-400e-9b79-5063eb5546c7"
      },
      "execution_count": 53,
      "outputs": [
        {
          "output_type": "display_data",
          "data": {
            "text/plain": [
              "\u001b[1mModel: \"sequential\"\u001b[0m\n"
            ],
            "text/html": [
              "<pre style=\"white-space:pre;overflow-x:auto;line-height:normal;font-family:Menlo,'DejaVu Sans Mono',consolas,'Courier New',monospace\"><span style=\"font-weight: bold\">Model: \"sequential\"</span>\n",
              "</pre>\n"
            ]
          },
          "metadata": {}
        },
        {
          "output_type": "display_data",
          "data": {
            "text/plain": [
              "┏━━━━━━━━━━━━━━━━━━━━━━━━━━━━━━━━━━━━━━┳━━━━━━━━━━━━━━━━━━━━━━━━━━━━━┳━━━━━━━━━━━━━━━━━┓\n",
              "┃\u001b[1m \u001b[0m\u001b[1mLayer (type)                        \u001b[0m\u001b[1m \u001b[0m┃\u001b[1m \u001b[0m\u001b[1mOutput Shape               \u001b[0m\u001b[1m \u001b[0m┃\u001b[1m \u001b[0m\u001b[1m        Param #\u001b[0m\u001b[1m \u001b[0m┃\n",
              "┡━━━━━━━━━━━━━━━━━━━━━━━━━━━━━━━━━━━━━━╇━━━━━━━━━━━━━━━━━━━━━━━━━━━━━╇━━━━━━━━━━━━━━━━━┩\n",
              "│ conv2d (\u001b[38;5;33mConv2D\u001b[0m)                      │ (\u001b[38;5;45mNone\u001b[0m, \u001b[38;5;34m1\u001b[0m, \u001b[38;5;34m1\u001b[0m, \u001b[38;5;34m32\u001b[0m)            │             \u001b[38;5;34m832\u001b[0m │\n",
              "└──────────────────────────────────────┴─────────────────────────────┴─────────────────┘\n"
            ],
            "text/html": [
              "<pre style=\"white-space:pre;overflow-x:auto;line-height:normal;font-family:Menlo,'DejaVu Sans Mono',consolas,'Courier New',monospace\">┏━━━━━━━━━━━━━━━━━━━━━━━━━━━━━━━━━━━━━━┳━━━━━━━━━━━━━━━━━━━━━━━━━━━━━┳━━━━━━━━━━━━━━━━━┓\n",
              "┃<span style=\"font-weight: bold\"> Layer (type)                         </span>┃<span style=\"font-weight: bold\"> Output Shape                </span>┃<span style=\"font-weight: bold\">         Param # </span>┃\n",
              "┡━━━━━━━━━━━━━━━━━━━━━━━━━━━━━━━━━━━━━━╇━━━━━━━━━━━━━━━━━━━━━━━━━━━━━╇━━━━━━━━━━━━━━━━━┩\n",
              "│ conv2d (<span style=\"color: #0087ff; text-decoration-color: #0087ff\">Conv2D</span>)                      │ (<span style=\"color: #00d7ff; text-decoration-color: #00d7ff\">None</span>, <span style=\"color: #00af00; text-decoration-color: #00af00\">1</span>, <span style=\"color: #00af00; text-decoration-color: #00af00\">1</span>, <span style=\"color: #00af00; text-decoration-color: #00af00\">32</span>)            │             <span style=\"color: #00af00; text-decoration-color: #00af00\">832</span> │\n",
              "└──────────────────────────────────────┴─────────────────────────────┴─────────────────┘\n",
              "</pre>\n"
            ]
          },
          "metadata": {}
        },
        {
          "output_type": "display_data",
          "data": {
            "text/plain": [
              "\u001b[1m Total params: \u001b[0m\u001b[38;5;34m832\u001b[0m (3.25 KB)\n"
            ],
            "text/html": [
              "<pre style=\"white-space:pre;overflow-x:auto;line-height:normal;font-family:Menlo,'DejaVu Sans Mono',consolas,'Courier New',monospace\"><span style=\"font-weight: bold\"> Total params: </span><span style=\"color: #00af00; text-decoration-color: #00af00\">832</span> (3.25 KB)\n",
              "</pre>\n"
            ]
          },
          "metadata": {}
        },
        {
          "output_type": "display_data",
          "data": {
            "text/plain": [
              "\u001b[1m Trainable params: \u001b[0m\u001b[38;5;34m832\u001b[0m (3.25 KB)\n"
            ],
            "text/html": [
              "<pre style=\"white-space:pre;overflow-x:auto;line-height:normal;font-family:Menlo,'DejaVu Sans Mono',consolas,'Courier New',monospace\"><span style=\"font-weight: bold\"> Trainable params: </span><span style=\"color: #00af00; text-decoration-color: #00af00\">832</span> (3.25 KB)\n",
              "</pre>\n"
            ]
          },
          "metadata": {}
        },
        {
          "output_type": "display_data",
          "data": {
            "text/plain": [
              "\u001b[1m Non-trainable params: \u001b[0m\u001b[38;5;34m0\u001b[0m (0.00 B)\n"
            ],
            "text/html": [
              "<pre style=\"white-space:pre;overflow-x:auto;line-height:normal;font-family:Menlo,'DejaVu Sans Mono',consolas,'Courier New',monospace\"><span style=\"font-weight: bold\"> Non-trainable params: </span><span style=\"color: #00af00; text-decoration-color: #00af00\">0</span> (0.00 B)\n",
              "</pre>\n"
            ]
          },
          "metadata": {}
        }
      ]
    },
    {
      "cell_type": "code",
      "source": [
        "from tensorflow.keras.callbacks import EarlyStopping, ModelCheckpoint\n",
        "\n",
        "# Define the file path to save the model\n",
        "checkpoint_filepath = 'best_model.keras'  # Use the .keras extension\n",
        "\n",
        "# Create ModelCheckpoint callback\n",
        "checkpoint = ModelCheckpoint(checkpoint_filepath,\n",
        "                             monitor='val_loss',\n",
        "                             verbose=1,\n",
        "                             save_best_only=True,\n",
        "                             mode='min')\n",
        "\n",
        "# You can also add an EarlyStopping callback if desired\n",
        "early_stopping = EarlyStopping(monitor='val_loss',\n",
        "                               patience=10,\n",
        "                               verbose=1,\n",
        "                               mode='min',\n",
        "                               restore_best_weights=True)\n",
        "\n",
        "# Now you can pass these callbacks to the model's fit function\n"
      ],
      "metadata": {
        "id": "Nder4CCbMZLW"
      },
      "execution_count": 54,
      "outputs": []
    },
    {
      "cell_type": "code",
      "source": [
        "model = keras.Sequential([\n",
        "    keras.layers.Conv2D(32, 5, padding='same', activation='swish', input_shape=(1, 1, X_train.shape[1])),  # (1, 1, 4)\n",
        "    # Add more layers as needed\n",
        "    keras.layers.Flatten(),\n",
        "    keras.layers.Dense(1)  # Adjust this layer to match the shape of Y_train\n",
        "])\n"
      ],
      "metadata": {
        "id": "yPaZpgp6NKOT"
      },
      "execution_count": 62,
      "outputs": []
    },
    {
      "cell_type": "code",
      "source": [
        "from sklearn.ensemble import RandomForestRegressor\n",
        "\n",
        "model = RandomForestRegressor()\n",
        "model.fit(X_train, Y_train)"
      ],
      "metadata": {
        "colab": {
          "base_uri": "https://localhost:8080/",
          "height": 74
        },
        "id": "H0P2uur-aX8a",
        "outputId": "91b86ac4-42d3-4922-8dc4-a05ccbe69acf"
      },
      "execution_count": 87,
      "outputs": [
        {
          "output_type": "execute_result",
          "data": {
            "text/plain": [
              "RandomForestRegressor()"
            ],
            "text/html": [
              "<style>#sk-container-id-2 {color: black;}#sk-container-id-2 pre{padding: 0;}#sk-container-id-2 div.sk-toggleable {background-color: white;}#sk-container-id-2 label.sk-toggleable__label {cursor: pointer;display: block;width: 100%;margin-bottom: 0;padding: 0.3em;box-sizing: border-box;text-align: center;}#sk-container-id-2 label.sk-toggleable__label-arrow:before {content: \"▸\";float: left;margin-right: 0.25em;color: #696969;}#sk-container-id-2 label.sk-toggleable__label-arrow:hover:before {color: black;}#sk-container-id-2 div.sk-estimator:hover label.sk-toggleable__label-arrow:before {color: black;}#sk-container-id-2 div.sk-toggleable__content {max-height: 0;max-width: 0;overflow: hidden;text-align: left;background-color: #f0f8ff;}#sk-container-id-2 div.sk-toggleable__content pre {margin: 0.2em;color: black;border-radius: 0.25em;background-color: #f0f8ff;}#sk-container-id-2 input.sk-toggleable__control:checked~div.sk-toggleable__content {max-height: 200px;max-width: 100%;overflow: auto;}#sk-container-id-2 input.sk-toggleable__control:checked~label.sk-toggleable__label-arrow:before {content: \"▾\";}#sk-container-id-2 div.sk-estimator input.sk-toggleable__control:checked~label.sk-toggleable__label {background-color: #d4ebff;}#sk-container-id-2 div.sk-label input.sk-toggleable__control:checked~label.sk-toggleable__label {background-color: #d4ebff;}#sk-container-id-2 input.sk-hidden--visually {border: 0;clip: rect(1px 1px 1px 1px);clip: rect(1px, 1px, 1px, 1px);height: 1px;margin: -1px;overflow: hidden;padding: 0;position: absolute;width: 1px;}#sk-container-id-2 div.sk-estimator {font-family: monospace;background-color: #f0f8ff;border: 1px dotted black;border-radius: 0.25em;box-sizing: border-box;margin-bottom: 0.5em;}#sk-container-id-2 div.sk-estimator:hover {background-color: #d4ebff;}#sk-container-id-2 div.sk-parallel-item::after {content: \"\";width: 100%;border-bottom: 1px solid gray;flex-grow: 1;}#sk-container-id-2 div.sk-label:hover label.sk-toggleable__label {background-color: #d4ebff;}#sk-container-id-2 div.sk-serial::before {content: \"\";position: absolute;border-left: 1px solid gray;box-sizing: border-box;top: 0;bottom: 0;left: 50%;z-index: 0;}#sk-container-id-2 div.sk-serial {display: flex;flex-direction: column;align-items: center;background-color: white;padding-right: 0.2em;padding-left: 0.2em;position: relative;}#sk-container-id-2 div.sk-item {position: relative;z-index: 1;}#sk-container-id-2 div.sk-parallel {display: flex;align-items: stretch;justify-content: center;background-color: white;position: relative;}#sk-container-id-2 div.sk-item::before, #sk-container-id-2 div.sk-parallel-item::before {content: \"\";position: absolute;border-left: 1px solid gray;box-sizing: border-box;top: 0;bottom: 0;left: 50%;z-index: -1;}#sk-container-id-2 div.sk-parallel-item {display: flex;flex-direction: column;z-index: 1;position: relative;background-color: white;}#sk-container-id-2 div.sk-parallel-item:first-child::after {align-self: flex-end;width: 50%;}#sk-container-id-2 div.sk-parallel-item:last-child::after {align-self: flex-start;width: 50%;}#sk-container-id-2 div.sk-parallel-item:only-child::after {width: 0;}#sk-container-id-2 div.sk-dashed-wrapped {border: 1px dashed gray;margin: 0 0.4em 0.5em 0.4em;box-sizing: border-box;padding-bottom: 0.4em;background-color: white;}#sk-container-id-2 div.sk-label label {font-family: monospace;font-weight: bold;display: inline-block;line-height: 1.2em;}#sk-container-id-2 div.sk-label-container {text-align: center;}#sk-container-id-2 div.sk-container {/* jupyter's `normalize.less` sets `[hidden] { display: none; }` but bootstrap.min.css set `[hidden] { display: none !important; }` so we also need the `!important` here to be able to override the default hidden behavior on the sphinx rendered scikit-learn.org. See: https://github.com/scikit-learn/scikit-learn/issues/21755 */display: inline-block !important;position: relative;}#sk-container-id-2 div.sk-text-repr-fallback {display: none;}</style><div id=\"sk-container-id-2\" class=\"sk-top-container\"><div class=\"sk-text-repr-fallback\"><pre>RandomForestRegressor()</pre><b>In a Jupyter environment, please rerun this cell to show the HTML representation or trust the notebook. <br />On GitHub, the HTML representation is unable to render, please try loading this page with nbviewer.org.</b></div><div class=\"sk-container\" hidden><div class=\"sk-item\"><div class=\"sk-estimator sk-toggleable\"><input class=\"sk-toggleable__control sk-hidden--visually\" id=\"sk-estimator-id-2\" type=\"checkbox\" checked><label for=\"sk-estimator-id-2\" class=\"sk-toggleable__label sk-toggleable__label-arrow\">RandomForestRegressor</label><div class=\"sk-toggleable__content\"><pre>RandomForestRegressor()</pre></div></div></div></div></div>"
            ]
          },
          "metadata": {},
          "execution_count": 87
        }
      ]
    },
    {
      "cell_type": "code",
      "source": [
        "from tensorflow.keras.models import Sequential\n",
        "from tensorflow.keras.layers import Dense\n",
        "from tensorflow.keras.losses import BinaryCrossentropy\n",
        "\n",
        "model = Sequential([\n",
        "    Dense(64, activation='relu', input_shape=(X_train.shape[1],)),\n",
        "    Dense(4)\n",
        "])\n",
        "\n",
        "model.compile(optimizer='adam', loss='mse', metrics=['accuracy'])\n",
        "model.fit(X_train, Y_train, epochs=20, batch_size=32)\n"
      ],
      "metadata": {
        "colab": {
          "base_uri": "https://localhost:8080/"
        },
        "id": "By7Fe_cEa1xe",
        "outputId": "ee8c843f-bbad-4a70-be84-89cab52cba3b"
      },
      "execution_count": 84,
      "outputs": [
        {
          "output_type": "stream",
          "name": "stdout",
          "text": [
            "Epoch 1/20\n",
            "\u001b[1m1279/1279\u001b[0m \u001b[32m━━━━━━━━━━━━━━━━━━━━\u001b[0m\u001b[37m\u001b[0m \u001b[1m5s\u001b[0m 2ms/step - accuracy: 0.9706 - loss: 1182040.7500\n",
            "Epoch 2/20\n",
            "\u001b[1m1279/1279\u001b[0m \u001b[32m━━━━━━━━━━━━━━━━━━━━\u001b[0m\u001b[37m\u001b[0m \u001b[1m3s\u001b[0m 3ms/step - accuracy: 1.0000 - loss: 9.9215\n",
            "Epoch 3/20\n",
            "\u001b[1m1279/1279\u001b[0m \u001b[32m━━━━━━━━━━━━━━━━━━━━\u001b[0m\u001b[37m\u001b[0m \u001b[1m5s\u001b[0m 2ms/step - accuracy: 1.0000 - loss: 8.7731\n",
            "Epoch 4/20\n",
            "\u001b[1m1279/1279\u001b[0m \u001b[32m━━━━━━━━━━━━━━━━━━━━\u001b[0m\u001b[37m\u001b[0m \u001b[1m4s\u001b[0m 2ms/step - accuracy: 1.0000 - loss: 6.5588\n",
            "Epoch 5/20\n",
            "\u001b[1m1279/1279\u001b[0m \u001b[32m━━━━━━━━━━━━━━━━━━━━\u001b[0m\u001b[37m\u001b[0m \u001b[1m2s\u001b[0m 1ms/step - accuracy: 1.0000 - loss: 5.7260\n",
            "Epoch 6/20\n",
            "\u001b[1m1279/1279\u001b[0m \u001b[32m━━━━━━━━━━━━━━━━━━━━\u001b[0m\u001b[37m\u001b[0m \u001b[1m2s\u001b[0m 1ms/step - accuracy: 1.0000 - loss: 6.1114\n",
            "Epoch 7/20\n",
            "\u001b[1m1279/1279\u001b[0m \u001b[32m━━━━━━━━━━━━━━━━━━━━\u001b[0m\u001b[37m\u001b[0m \u001b[1m3s\u001b[0m 1ms/step - accuracy: 1.0000 - loss: 6.2042\n",
            "Epoch 8/20\n",
            "\u001b[1m1279/1279\u001b[0m \u001b[32m━━━━━━━━━━━━━━━━━━━━\u001b[0m\u001b[37m\u001b[0m \u001b[1m2s\u001b[0m 1ms/step - accuracy: 1.0000 - loss: 6.3545\n",
            "Epoch 9/20\n",
            "\u001b[1m1279/1279\u001b[0m \u001b[32m━━━━━━━━━━━━━━━━━━━━\u001b[0m\u001b[37m\u001b[0m \u001b[1m4s\u001b[0m 2ms/step - accuracy: 1.0000 - loss: 6.5488\n",
            "Epoch 10/20\n",
            "\u001b[1m1279/1279\u001b[0m \u001b[32m━━━━━━━━━━━━━━━━━━━━\u001b[0m\u001b[37m\u001b[0m \u001b[1m4s\u001b[0m 1ms/step - accuracy: 1.0000 - loss: 6.7774\n",
            "Epoch 11/20\n",
            "\u001b[1m1279/1279\u001b[0m \u001b[32m━━━━━━━━━━━━━━━━━━━━\u001b[0m\u001b[37m\u001b[0m \u001b[1m2s\u001b[0m 1ms/step - accuracy: 1.0000 - loss: 6.1984\n",
            "Epoch 12/20\n",
            "\u001b[1m1279/1279\u001b[0m \u001b[32m━━━━━━━━━━━━━━━━━━━━\u001b[0m\u001b[37m\u001b[0m \u001b[1m3s\u001b[0m 1ms/step - accuracy: 1.0000 - loss: 6.0668\n",
            "Epoch 13/20\n",
            "\u001b[1m1279/1279\u001b[0m \u001b[32m━━━━━━━━━━━━━━━━━━━━\u001b[0m\u001b[37m\u001b[0m \u001b[1m2s\u001b[0m 1ms/step - accuracy: 1.0000 - loss: 5.8030\n",
            "Epoch 14/20\n",
            "\u001b[1m1279/1279\u001b[0m \u001b[32m━━━━━━━━━━━━━━━━━━━━\u001b[0m\u001b[37m\u001b[0m \u001b[1m4s\u001b[0m 2ms/step - accuracy: 1.0000 - loss: 5.0212\n",
            "Epoch 15/20\n",
            "\u001b[1m1279/1279\u001b[0m \u001b[32m━━━━━━━━━━━━━━━━━━━━\u001b[0m\u001b[37m\u001b[0m \u001b[1m4s\u001b[0m 1ms/step - accuracy: 1.0000 - loss: 5.0081\n",
            "Epoch 16/20\n",
            "\u001b[1m1279/1279\u001b[0m \u001b[32m━━━━━━━━━━━━━━━━━━━━\u001b[0m\u001b[37m\u001b[0m \u001b[1m3s\u001b[0m 1ms/step - accuracy: 1.0000 - loss: 4.3515\n",
            "Epoch 17/20\n",
            "\u001b[1m1279/1279\u001b[0m \u001b[32m━━━━━━━━━━━━━━━━━━━━\u001b[0m\u001b[37m\u001b[0m \u001b[1m3s\u001b[0m 1ms/step - accuracy: 1.0000 - loss: 4.2320\n",
            "Epoch 18/20\n",
            "\u001b[1m1279/1279\u001b[0m \u001b[32m━━━━━━━━━━━━━━━━━━━━\u001b[0m\u001b[37m\u001b[0m \u001b[1m5s\u001b[0m 3ms/step - accuracy: 1.0000 - loss: 3.9278\n",
            "Epoch 19/20\n",
            "\u001b[1m1279/1279\u001b[0m \u001b[32m━━━━━━━━━━━━━━━━━━━━\u001b[0m\u001b[37m\u001b[0m \u001b[1m3s\u001b[0m 2ms/step - accuracy: 1.0000 - loss: 3.9850\n",
            "Epoch 20/20\n",
            "\u001b[1m1279/1279\u001b[0m \u001b[32m━━━━━━━━━━━━━━━━━━━━\u001b[0m\u001b[37m\u001b[0m \u001b[1m2s\u001b[0m 1ms/step - accuracy: 1.0000 - loss: 3.4273\n"
          ]
        },
        {
          "output_type": "execute_result",
          "data": {
            "text/plain": [
              "<keras.src.callbacks.history.History at 0x788746995960>"
            ]
          },
          "metadata": {},
          "execution_count": 84
        }
      ]
    },
    {
      "cell_type": "code",
      "source": [],
      "metadata": {
        "id": "VaWdhQhPer6R"
      },
      "execution_count": null,
      "outputs": []
    },
    {
      "cell_type": "code",
      "source": [
        "import tensorflow.keras.backend as K\n",
        "\n",
        "def r_square(y_true, y_pred):\n",
        "    SS_res =  K.sum(K.square(y_true - y_pred))\n",
        "    SS_tot = K.sum(K.square(y_true - K.mean(y_true)))\n",
        "    return ( 1 - SS_res/(SS_tot + K.epsilon()) )\n",
        "\n",
        "model = Sequential([\n",
        "    Dense(64, activation='relu', input_shape=(X_train.shape[1],)),\n",
        "    Dense(4)\n",
        "])\n",
        "\n",
        "\n",
        "model.compile(optimizer='adam', loss='mse', metrics=[r_square])\n",
        "model.fit(X_train, Y_train, epochs=20, batch_size=32)"
      ],
      "metadata": {
        "colab": {
          "base_uri": "https://localhost:8080/"
        },
        "id": "-RyF-3PSdOfW",
        "outputId": "568dfd4a-9c4b-46b8-efa2-c6feee739d78"
      },
      "execution_count": 85,
      "outputs": [
        {
          "output_type": "stream",
          "name": "stdout",
          "text": [
            "Epoch 1/20\n",
            "\u001b[1m1279/1279\u001b[0m \u001b[32m━━━━━━━━━━━━━━━━━━━━\u001b[0m\u001b[37m\u001b[0m \u001b[1m3s\u001b[0m 2ms/step - loss: 1268181.0000 - r_square: 0.7897\n",
            "Epoch 2/20\n",
            "\u001b[1m1279/1279\u001b[0m \u001b[32m━━━━━━━━━━━━━━━━━━━━\u001b[0m\u001b[37m\u001b[0m \u001b[1m2s\u001b[0m 1ms/step - loss: 8.1577 - r_square: 1.0000\n",
            "Epoch 3/20\n",
            "\u001b[1m1279/1279\u001b[0m \u001b[32m━━━━━━━━━━━━━━━━━━━━\u001b[0m\u001b[37m\u001b[0m \u001b[1m2s\u001b[0m 1ms/step - loss: 4.6090 - r_square: 1.0000\n",
            "Epoch 4/20\n",
            "\u001b[1m1279/1279\u001b[0m \u001b[32m━━━━━━━━━━━━━━━━━━━━\u001b[0m\u001b[37m\u001b[0m \u001b[1m2s\u001b[0m 1ms/step - loss: 3.4858 - r_square: 1.0000\n",
            "Epoch 5/20\n",
            "\u001b[1m1279/1279\u001b[0m \u001b[32m━━━━━━━━━━━━━━━━━━━━\u001b[0m\u001b[37m\u001b[0m \u001b[1m4s\u001b[0m 2ms/step - loss: 3.2473 - r_square: 1.0000\n",
            "Epoch 6/20\n",
            "\u001b[1m1279/1279\u001b[0m \u001b[32m━━━━━━━━━━━━━━━━━━━━\u001b[0m\u001b[37m\u001b[0m \u001b[1m2s\u001b[0m 2ms/step - loss: 3.6058 - r_square: 1.0000\n",
            "Epoch 7/20\n",
            "\u001b[1m1279/1279\u001b[0m \u001b[32m━━━━━━━━━━━━━━━━━━━━\u001b[0m\u001b[37m\u001b[0m \u001b[1m2s\u001b[0m 1ms/step - loss: 3.3976 - r_square: 1.0000\n",
            "Epoch 8/20\n",
            "\u001b[1m1279/1279\u001b[0m \u001b[32m━━━━━━━━━━━━━━━━━━━━\u001b[0m\u001b[37m\u001b[0m \u001b[1m3s\u001b[0m 1ms/step - loss: 3.3006 - r_square: 1.0000\n",
            "Epoch 9/20\n",
            "\u001b[1m1279/1279\u001b[0m \u001b[32m━━━━━━━━━━━━━━━━━━━━\u001b[0m\u001b[37m\u001b[0m \u001b[1m3s\u001b[0m 1ms/step - loss: 3.4953 - r_square: 1.0000\n",
            "Epoch 10/20\n",
            "\u001b[1m1279/1279\u001b[0m \u001b[32m━━━━━━━━━━━━━━━━━━━━\u001b[0m\u001b[37m\u001b[0m \u001b[1m3s\u001b[0m 2ms/step - loss: 3.3107 - r_square: 1.0000\n",
            "Epoch 11/20\n",
            "\u001b[1m1279/1279\u001b[0m \u001b[32m━━━━━━━━━━━━━━━━━━━━\u001b[0m\u001b[37m\u001b[0m \u001b[1m3s\u001b[0m 2ms/step - loss: 3.4501 - r_square: 1.0000\n",
            "Epoch 12/20\n",
            "\u001b[1m1279/1279\u001b[0m \u001b[32m━━━━━━━━━━━━━━━━━━━━\u001b[0m\u001b[37m\u001b[0m \u001b[1m2s\u001b[0m 1ms/step - loss: 3.5362 - r_square: 1.0000\n",
            "Epoch 13/20\n",
            "\u001b[1m1279/1279\u001b[0m \u001b[32m━━━━━━━━━━━━━━━━━━━━\u001b[0m\u001b[37m\u001b[0m \u001b[1m2s\u001b[0m 1ms/step - loss: 3.5040 - r_square: 1.0000\n",
            "Epoch 14/20\n",
            "\u001b[1m1279/1279\u001b[0m \u001b[32m━━━━━━━━━━━━━━━━━━━━\u001b[0m\u001b[37m\u001b[0m \u001b[1m2s\u001b[0m 1ms/step - loss: 3.2592 - r_square: 1.0000\n",
            "Epoch 15/20\n",
            "\u001b[1m1279/1279\u001b[0m \u001b[32m━━━━━━━━━━━━━━━━━━━━\u001b[0m\u001b[37m\u001b[0m \u001b[1m2s\u001b[0m 1ms/step - loss: 3.4994 - r_square: 1.0000\n",
            "Epoch 16/20\n",
            "\u001b[1m1279/1279\u001b[0m \u001b[32m━━━━━━━━━━━━━━━━━━━━\u001b[0m\u001b[37m\u001b[0m \u001b[1m3s\u001b[0m 1ms/step - loss: 3.2257 - r_square: 1.0000\n",
            "Epoch 17/20\n",
            "\u001b[1m1279/1279\u001b[0m \u001b[32m━━━━━━━━━━━━━━━━━━━━\u001b[0m\u001b[37m\u001b[0m \u001b[1m2s\u001b[0m 2ms/step - loss: 3.0884 - r_square: 1.0000\n",
            "Epoch 18/20\n",
            "\u001b[1m1279/1279\u001b[0m \u001b[32m━━━━━━━━━━━━━━━━━━━━\u001b[0m\u001b[37m\u001b[0m \u001b[1m3s\u001b[0m 2ms/step - loss: 3.1608 - r_square: 1.0000\n",
            "Epoch 19/20\n",
            "\u001b[1m1279/1279\u001b[0m \u001b[32m━━━━━━━━━━━━━━━━━━━━\u001b[0m\u001b[37m\u001b[0m \u001b[1m2s\u001b[0m 1ms/step - loss: 3.1686 - r_square: 1.0000\n",
            "Epoch 20/20\n",
            "\u001b[1m1279/1279\u001b[0m \u001b[32m━━━━━━━━━━━━━━━━━━━━\u001b[0m\u001b[37m\u001b[0m \u001b[1m2s\u001b[0m 1ms/step - loss: 3.0703 - r_square: 1.0000\n"
          ]
        },
        {
          "output_type": "execute_result",
          "data": {
            "text/plain": [
              "<keras.src.callbacks.history.History at 0x788746743220>"
            ]
          },
          "metadata": {},
          "execution_count": 85
        }
      ]
    },
    {
      "cell_type": "code",
      "source": [
        "# Example shapes\n",
        "print(X_train.shape)  # (number of samples, timesteps, number of features)\n",
        "print(Y_train.shape)  # (number of samples, number of targets)\n"
      ],
      "metadata": {
        "colab": {
          "base_uri": "https://localhost:8080/"
        },
        "id": "2YmcrameetsD",
        "outputId": "a66222e9-a9ac-4558-ba0e-8525522cbef5"
      },
      "execution_count": 89,
      "outputs": [
        {
          "output_type": "stream",
          "name": "stdout",
          "text": [
            "(40908, 4)\n",
            "(40908, 4)\n"
          ]
        }
      ]
    },
    {
      "cell_type": "code",
      "source": [
        "from tensorflow.keras.models import Sequential\n",
        "from tensorflow.keras.layers import GRU, Dense\n",
        "\n",
        "# Reshape X_train to include a time dimension if necessary\n",
        "# For example, if each sample has a single timestep:\n",
        "X_train_reshaped = X_train.values.reshape(X_train.shape[0], 1, X_train.shape[1])\n",
        "\n",
        "# Ensure Y_valid also has the time dimension\n",
        "# Assuming Y_valid needs the same reshaping as X_train:\n",
        "Y_valid_reshaped = Y_valid.values.reshape(Y_valid.shape[0], 1, Y_valid.shape[1])\n",
        "\n",
        "# Create the Keras model, using a different variable name\n",
        "keras_model = Sequential([\n",
        "    GRU(64, activation='relu', input_shape=(X_train_reshaped.shape[1], X_train_reshaped.shape[2])),\n",
        "    Dense(4, activation='sigmoid')  # Change the output dimension to 4\n",
        "])\n",
        "\n",
        "keras_model.compile(optimizer='adam', loss='binary_crossentropy', metrics=['accuracy'])\n",
        "\n",
        "# Use the reshaped Y_valid for validation\n",
        "history = keras_model.fit(X_train_reshaped, Y_train, epochs=10, batch_size=32, validation_data=(X_valid, Y_valid_reshaped))"
      ],
      "metadata": {
        "colab": {
          "base_uri": "https://localhost:8080/",
          "height": 547
        },
        "id": "v_c98DV0hLkq",
        "outputId": "d9c1972c-f9da-4a93-ddab-ee7025042472"
      },
      "execution_count": 96,
      "outputs": [
        {
          "output_type": "stream",
          "name": "stdout",
          "text": [
            "Epoch 1/10\n",
            "\u001b[1m1274/1279\u001b[0m \u001b[32m━━━━━━━━━━━━━━━━━━━\u001b[0m\u001b[37m━\u001b[0m \u001b[1m0s\u001b[0m 3ms/step - accuracy: 0.9331 - loss: -62619968.0000"
          ]
        },
        {
          "output_type": "error",
          "ename": "ValueError",
          "evalue": "Exception encountered when calling Sequential.call().\n\n\u001b[1mInvalid input shape for input Tensor(\"IteratorGetNext:0\", shape=(None, 4), dtype=float32). Expected shape (None, 1, 4), but input has incompatible shape (None, 4)\u001b[0m\n\nArguments received by Sequential.call():\n  • inputs=tf.Tensor(shape=(None, 4), dtype=float32)\n  • training=False\n  • mask=None",
          "traceback": [
            "\u001b[0;31m---------------------------------------------------------------------------\u001b[0m",
            "\u001b[0;31mValueError\u001b[0m                                Traceback (most recent call last)",
            "\u001b[0;32m<ipython-input-96-41b9366c7e95>\u001b[0m in \u001b[0;36m<cell line: 21>\u001b[0;34m()\u001b[0m\n\u001b[1;32m     19\u001b[0m \u001b[0;34m\u001b[0m\u001b[0m\n\u001b[1;32m     20\u001b[0m \u001b[0;31m# Use the reshaped Y_valid for validation\u001b[0m\u001b[0;34m\u001b[0m\u001b[0;34m\u001b[0m\u001b[0m\n\u001b[0;32m---> 21\u001b[0;31m \u001b[0mhistory\u001b[0m \u001b[0;34m=\u001b[0m \u001b[0mkeras_model\u001b[0m\u001b[0;34m.\u001b[0m\u001b[0mfit\u001b[0m\u001b[0;34m(\u001b[0m\u001b[0mX_train_reshaped\u001b[0m\u001b[0;34m,\u001b[0m \u001b[0mY_train\u001b[0m\u001b[0;34m,\u001b[0m \u001b[0mepochs\u001b[0m\u001b[0;34m=\u001b[0m\u001b[0;36m10\u001b[0m\u001b[0;34m,\u001b[0m \u001b[0mbatch_size\u001b[0m\u001b[0;34m=\u001b[0m\u001b[0;36m32\u001b[0m\u001b[0;34m,\u001b[0m \u001b[0mvalidation_data\u001b[0m\u001b[0;34m=\u001b[0m\u001b[0;34m(\u001b[0m\u001b[0mX_valid\u001b[0m\u001b[0;34m,\u001b[0m \u001b[0mY_valid_reshaped\u001b[0m\u001b[0;34m)\u001b[0m\u001b[0;34m)\u001b[0m\u001b[0;34m\u001b[0m\u001b[0;34m\u001b[0m\u001b[0m\n\u001b[0m",
            "\u001b[0;32m/usr/local/lib/python3.10/dist-packages/keras/src/utils/traceback_utils.py\u001b[0m in \u001b[0;36merror_handler\u001b[0;34m(*args, **kwargs)\u001b[0m\n\u001b[1;32m    120\u001b[0m             \u001b[0;31m# To get the full stack trace, call:\u001b[0m\u001b[0;34m\u001b[0m\u001b[0;34m\u001b[0m\u001b[0m\n\u001b[1;32m    121\u001b[0m             \u001b[0;31m# `keras.config.disable_traceback_filtering()`\u001b[0m\u001b[0;34m\u001b[0m\u001b[0;34m\u001b[0m\u001b[0m\n\u001b[0;32m--> 122\u001b[0;31m             \u001b[0;32mraise\u001b[0m \u001b[0me\u001b[0m\u001b[0;34m.\u001b[0m\u001b[0mwith_traceback\u001b[0m\u001b[0;34m(\u001b[0m\u001b[0mfiltered_tb\u001b[0m\u001b[0;34m)\u001b[0m \u001b[0;32mfrom\u001b[0m \u001b[0;32mNone\u001b[0m\u001b[0;34m\u001b[0m\u001b[0;34m\u001b[0m\u001b[0m\n\u001b[0m\u001b[1;32m    123\u001b[0m         \u001b[0;32mfinally\u001b[0m\u001b[0;34m:\u001b[0m\u001b[0;34m\u001b[0m\u001b[0;34m\u001b[0m\u001b[0m\n\u001b[1;32m    124\u001b[0m             \u001b[0;32mdel\u001b[0m \u001b[0mfiltered_tb\u001b[0m\u001b[0;34m\u001b[0m\u001b[0;34m\u001b[0m\u001b[0m\n",
            "\u001b[0;32m/usr/local/lib/python3.10/dist-packages/keras/src/models/functional.py\u001b[0m in \u001b[0;36m_adjust_input_rank\u001b[0;34m(self, flat_inputs)\u001b[0m\n\u001b[1;32m    242\u001b[0m                     \u001b[0madjusted\u001b[0m\u001b[0;34m.\u001b[0m\u001b[0mappend\u001b[0m\u001b[0;34m(\u001b[0m\u001b[0mops\u001b[0m\u001b[0;34m.\u001b[0m\u001b[0mexpand_dims\u001b[0m\u001b[0;34m(\u001b[0m\u001b[0mx\u001b[0m\u001b[0;34m,\u001b[0m \u001b[0maxis\u001b[0m\u001b[0;34m=\u001b[0m\u001b[0;34m-\u001b[0m\u001b[0;36m1\u001b[0m\u001b[0;34m)\u001b[0m\u001b[0;34m)\u001b[0m\u001b[0;34m\u001b[0m\u001b[0;34m\u001b[0m\u001b[0m\n\u001b[1;32m    243\u001b[0m                     \u001b[0;32mcontinue\u001b[0m\u001b[0;34m\u001b[0m\u001b[0;34m\u001b[0m\u001b[0m\n\u001b[0;32m--> 244\u001b[0;31m             raise ValueError(\n\u001b[0m\u001b[1;32m    245\u001b[0m                 \u001b[0;34mf\"Invalid input shape for input {x}. Expected shape \"\u001b[0m\u001b[0;34m\u001b[0m\u001b[0;34m\u001b[0m\u001b[0m\n\u001b[1;32m    246\u001b[0m                 \u001b[0;34mf\"{ref_shape}, but input has incompatible shape {x.shape}\"\u001b[0m\u001b[0;34m\u001b[0m\u001b[0;34m\u001b[0m\u001b[0m\n",
            "\u001b[0;31mValueError\u001b[0m: Exception encountered when calling Sequential.call().\n\n\u001b[1mInvalid input shape for input Tensor(\"IteratorGetNext:0\", shape=(None, 4), dtype=float32). Expected shape (None, 1, 4), but input has incompatible shape (None, 4)\u001b[0m\n\nArguments received by Sequential.call():\n  • inputs=tf.Tensor(shape=(None, 4), dtype=float32)\n  • training=False\n  • mask=None"
          ]
        }
      ]
    }
  ]
}